{
  "cells": [
    {
      "cell_type": "markdown",
      "metadata": {
        "id": "H9wADwK78DCz"
      },
      "source": [
        "# Proyek Analisis Data: Bike-sharing-dataset\n",
        "- **Nama:** Leo Prangs Tobing\n",
        "- **Email:** leoprangs@gmail.com \n",
        "- **ID Dicoding:** leo_prangs_tobing"
      ]
    },
    {
      "cell_type": "markdown",
      "metadata": {},
      "source": [
        "## Submission Info"
      ]
    },
    {
      "cell_type": "markdown",
      "metadata": {},
      "source": [
        "### Kriteria\n",
        "1. ✅ [diambil opsi pertama] Menggunakan Salah Satu dari Dataset yang Telah Disediakan\n",
        "2. ✅ [Ada 3 pertanyaan] Melakukan Seluruh Proses Analisis Data dari pertanyaan dan visualisasi (minimal 2 buah pertanyaan & 2 buah visualisasi) sampai kesimpulan.\n",
        "3. ✅ [Sesuai notebook ini] Proses Analisis Dibuat dalam Notebook yang Rapi\n",
        "4. ✅ [Running di local dan cloud] Membuat Dashboard Sederhana Menggunakan Streamlit, pastikan jalan di local.\n",
        "\n",
        "### ketentuan Berkas\n",
        "Dataset yang digunakan dalam proses analisis data.\n",
        "- ✅ Berkas Jupyter Notebook atau Colab Notebook (.ipynb). Pastikan berkas notebook tersebut sudah dijalankan.\n",
        "- ✅ Berkas Python (.py) yang digunakan untuk membuat dashboard dengan streamlit.\n",
        "- ✅ Berkas requirements.txt yang berisi berbagai library yang digunakan dalam proses analisis data. \n",
        "- ✅ Berkas Markdown (README.md) yang berisi cara menjalankan dashboard (contoh: dicoding collection dashboard).\n",
        "\n",
        "### Penilaian for Star ✨\n",
        "1. ✅ Memberikan dokumentasi menggunakan markdown/text cell pada notebook (.ipynb) untuk menjelaskan setiap tahapan analisis data. \n",
        "2. ✅ Membuat visualisasi data yang baik dan efektif dengan menerapkan prinsip desain dan integritas.\n",
        "3. ✅ Deploy dashboard ke dalam streamlit cloud.\n",
        "4. Menerapkan teknik analisis lanjutan seperti RFM analysis, geospatial analysis, clustering, dll. (Tanpa menggunakan algoritma machine learning).\n",
        "<br>**Catatan**: Pastikan teknik analisis lanjutan yang dilakukan relevan dengan dataset yang digunakan.\n",
        "- [❌ walau recency dan frequency bisa diakali, tapi tidak ada kolom yang mewakili monetary] **RFM Analysis**, bertujuan mengelompokkan pelanggan berdasarkan perilaku pembelian mereka dengan memperhatikan tiga faktor utama:\n",
        "  - Recency: Menghitung jumlah hari sejak terakhir kali pelanggan melakukan pembelian.\n",
        "  - Frequency: Menghitung jumlah total transaksi yang dilakukan oleh pelanggan dalam periode tertentu.\n",
        "  - Monetary: Menghitung total pengeluaran pelanggan dalam periode tersebut.\n",
        "  - Anda dapat melihat contoh implementasi kodenya pada submodul Latihan Membuat Visualisasi Data.\n",
        "- [❌ tidak ada data lokasi] **Geospatial Analysis**, bertujuan menganalisis data berdasarkan lokasi geografis untuk mengidentifikasi tren atau pola tertentu di suatu wilayah. Anda bisa menggunakan package seperti GeoPandas atau folium untuk membuat peta yang menampilkan distribusi data berdasarkan lokasi.\n",
        "\n",
        "- [✅ Terdapat data waktu, variable terikat(casual, registered, cnt), dan variable bebas(weather,temp,hum,windspeed)] **Clustering**, bertujuan mengelompokkan data ke dalam grup berdasarkan karakteristik tertentu tanpa menggunakan algoritma machine learning. Berikut adalah beberapa metode clustering yang bisa diterapkan:\n",
        "  - Manual Grouping: Menentukan kriteria pengelompokan berdasarkan aturan bisnis atau pemahaman domain, seperti mengelompokkan pelanggan berdasarkan rentang usia, pendapatan, atau jumlah transaksi.\n",
        "  - Binning: Menggunakan teknik binning untuk membagi data ke dalam interval atau kategori tertentu."
      ]
    },
    {
      "cell_type": "markdown",
      "metadata": {
        "id": "eE0raob58DC0"
      },
      "source": [
        "## Menentukan Pertanyaan Bisnis"
      ]
    },
    {
      "cell_type": "markdown",
      "metadata": {
        "id": "GmQeQ5YF8DC0"
      },
      "source": [
        "1. Bagaimana pengaruh suhu (temp) dan kelembaban (hum) terhadap jumlah pengguna sepeda (cnt) di Washington D.C.?\n",
        "> Pertanyaan ini ingin menjawab apakah ada hubungan antara suhu dan kelembaban dengan jumlah pengguna sepeda di Washington D.C. Dengan menganalisis data, kita dapat mengetahui apakah suhu dan kelembaban yang tinggi atau rendah berpengaruh terhadap jumlah pengguna sepeda.\n",
        "2. Apa perbedaan jumlah pengguna sepeda antara pengguna casual dan pengguna registered di Washington D.C. pada hari libur dan hari kerja?\n",
        "> Pertanyaan ini ingin menjawab apakah ada perbedaan jumlah pengguna sepeda antara pengguna casual dan pengguna registered di Washington D.C. pada hari libur dan hari kerja. Dengan menganalisis data, kita dapat mengetahui apakah pengguna casual atau pengguna registered lebih banyak"
      ]
    },
    {
      "cell_type": "markdown",
      "metadata": {
        "id": "H-z4QGlO8DC1"
      },
      "source": [
        "## Import Semua Packages/Library yang Digunakan"
      ]
    },
    {
      "cell_type": "code",
      "execution_count": 376,
      "metadata": {
        "id": "FVYwaObI8DC1"
      },
      "outputs": [],
      "source": [
        "\n",
        "# Pilihan project: Pandas, Matplotlib, Seaborn & Streamlit (khusus untuk file py)\n",
        "import pandas as pd\n",
        "import numpy as np\n",
        "import matplotlib.pyplot as plt\n",
        "import matplotlib.ticker as ticker # konversi angka untuk kasus pertanyaan 2\n",
        "import seaborn as sns\n",
        "\n",
        "pd.set_option('display.max_columns', None)  # Menampilkan semua kolom\n",
        "pd.set_option('display.expand_frame_repr', False)  # Mencegah pemotongan tampilan di terminal"
      ]
    },
    {
      "cell_type": "markdown",
      "metadata": {
        "id": "h_Sh51Xy8DC1"
      },
      "source": [
        "## Data Wrangling"
      ]
    },
    {
      "cell_type": "markdown",
      "metadata": {
        "id": "sXU2GBYu8DC1"
      },
      "source": [
        "### Gathering Data"
      ]
    },
    {
      "cell_type": "code",
      "execution_count": 377,
      "metadata": {
        "id": "zjCBk1BI8DC1"
      },
      "outputs": [
        {
          "data": {
            "text/html": [
              "<div>\n",
              "<style scoped>\n",
              "    .dataframe tbody tr th:only-of-type {\n",
              "        vertical-align: middle;\n",
              "    }\n",
              "\n",
              "    .dataframe tbody tr th {\n",
              "        vertical-align: top;\n",
              "    }\n",
              "\n",
              "    .dataframe thead th {\n",
              "        text-align: right;\n",
              "    }\n",
              "</style>\n",
              "<table border=\"1\" class=\"dataframe\">\n",
              "  <thead>\n",
              "    <tr style=\"text-align: right;\">\n",
              "      <th></th>\n",
              "      <th>instant</th>\n",
              "      <th>dteday</th>\n",
              "      <th>season</th>\n",
              "      <th>yr</th>\n",
              "      <th>mnth</th>\n",
              "      <th>holiday</th>\n",
              "      <th>weekday</th>\n",
              "      <th>workingday</th>\n",
              "      <th>weathersit</th>\n",
              "      <th>temp</th>\n",
              "      <th>atemp</th>\n",
              "      <th>hum</th>\n",
              "      <th>windspeed</th>\n",
              "      <th>casual</th>\n",
              "      <th>registered</th>\n",
              "      <th>cnt</th>\n",
              "    </tr>\n",
              "  </thead>\n",
              "  <tbody>\n",
              "    <tr>\n",
              "      <th>0</th>\n",
              "      <td>1</td>\n",
              "      <td>2011-01-01</td>\n",
              "      <td>1</td>\n",
              "      <td>0</td>\n",
              "      <td>1</td>\n",
              "      <td>0</td>\n",
              "      <td>6</td>\n",
              "      <td>0</td>\n",
              "      <td>2</td>\n",
              "      <td>0.344167</td>\n",
              "      <td>0.363625</td>\n",
              "      <td>0.805833</td>\n",
              "      <td>0.160446</td>\n",
              "      <td>331</td>\n",
              "      <td>654</td>\n",
              "      <td>985</td>\n",
              "    </tr>\n",
              "    <tr>\n",
              "      <th>1</th>\n",
              "      <td>2</td>\n",
              "      <td>2011-01-02</td>\n",
              "      <td>1</td>\n",
              "      <td>0</td>\n",
              "      <td>1</td>\n",
              "      <td>0</td>\n",
              "      <td>0</td>\n",
              "      <td>0</td>\n",
              "      <td>2</td>\n",
              "      <td>0.363478</td>\n",
              "      <td>0.353739</td>\n",
              "      <td>0.696087</td>\n",
              "      <td>0.248539</td>\n",
              "      <td>131</td>\n",
              "      <td>670</td>\n",
              "      <td>801</td>\n",
              "    </tr>\n",
              "    <tr>\n",
              "      <th>2</th>\n",
              "      <td>3</td>\n",
              "      <td>2011-01-03</td>\n",
              "      <td>1</td>\n",
              "      <td>0</td>\n",
              "      <td>1</td>\n",
              "      <td>0</td>\n",
              "      <td>1</td>\n",
              "      <td>1</td>\n",
              "      <td>1</td>\n",
              "      <td>0.196364</td>\n",
              "      <td>0.189405</td>\n",
              "      <td>0.437273</td>\n",
              "      <td>0.248309</td>\n",
              "      <td>120</td>\n",
              "      <td>1229</td>\n",
              "      <td>1349</td>\n",
              "    </tr>\n",
              "  </tbody>\n",
              "</table>\n",
              "</div>"
            ],
            "text/plain": [
              "   instant      dteday  season  yr  mnth  holiday  weekday  workingday  weathersit      temp     atemp       hum  windspeed  casual  registered   cnt\n",
              "0        1  2011-01-01       1   0     1        0        6           0           2  0.344167  0.363625  0.805833   0.160446     331         654   985\n",
              "1        2  2011-01-02       1   0     1        0        0           0           2  0.363478  0.353739  0.696087   0.248539     131         670   801\n",
              "2        3  2011-01-03       1   0     1        0        1           1           1  0.196364  0.189405  0.437273   0.248309     120        1229  1349"
            ]
          },
          "execution_count": 377,
          "metadata": {},
          "output_type": "execute_result"
        }
      ],
      "source": [
        "# Buka file dan simpan dalam variabel\n",
        "df_day = pd.read_csv('data/day.csv')\n",
        "df_hour = pd.read_csv('data/hour.csv')\n",
        "\n",
        "# untuk melihat apakah format data sama, kita ambil 3 baris pertama\n",
        "df_day.head(3)"
      ]
    },
    {
      "cell_type": "code",
      "execution_count": 378,
      "metadata": {},
      "outputs": [
        {
          "data": {
            "text/html": [
              "<div>\n",
              "<style scoped>\n",
              "    .dataframe tbody tr th:only-of-type {\n",
              "        vertical-align: middle;\n",
              "    }\n",
              "\n",
              "    .dataframe tbody tr th {\n",
              "        vertical-align: top;\n",
              "    }\n",
              "\n",
              "    .dataframe thead th {\n",
              "        text-align: right;\n",
              "    }\n",
              "</style>\n",
              "<table border=\"1\" class=\"dataframe\">\n",
              "  <thead>\n",
              "    <tr style=\"text-align: right;\">\n",
              "      <th></th>\n",
              "      <th>instant</th>\n",
              "      <th>dteday</th>\n",
              "      <th>season</th>\n",
              "      <th>yr</th>\n",
              "      <th>mnth</th>\n",
              "      <th>hr</th>\n",
              "      <th>holiday</th>\n",
              "      <th>weekday</th>\n",
              "      <th>workingday</th>\n",
              "      <th>weathersit</th>\n",
              "      <th>temp</th>\n",
              "      <th>atemp</th>\n",
              "      <th>hum</th>\n",
              "      <th>windspeed</th>\n",
              "      <th>casual</th>\n",
              "      <th>registered</th>\n",
              "      <th>cnt</th>\n",
              "    </tr>\n",
              "  </thead>\n",
              "  <tbody>\n",
              "    <tr>\n",
              "      <th>0</th>\n",
              "      <td>1</td>\n",
              "      <td>2011-01-01</td>\n",
              "      <td>1</td>\n",
              "      <td>0</td>\n",
              "      <td>1</td>\n",
              "      <td>0</td>\n",
              "      <td>0</td>\n",
              "      <td>6</td>\n",
              "      <td>0</td>\n",
              "      <td>1</td>\n",
              "      <td>0.24</td>\n",
              "      <td>0.2879</td>\n",
              "      <td>0.81</td>\n",
              "      <td>0.0</td>\n",
              "      <td>3</td>\n",
              "      <td>13</td>\n",
              "      <td>16</td>\n",
              "    </tr>\n",
              "    <tr>\n",
              "      <th>1</th>\n",
              "      <td>2</td>\n",
              "      <td>2011-01-01</td>\n",
              "      <td>1</td>\n",
              "      <td>0</td>\n",
              "      <td>1</td>\n",
              "      <td>1</td>\n",
              "      <td>0</td>\n",
              "      <td>6</td>\n",
              "      <td>0</td>\n",
              "      <td>1</td>\n",
              "      <td>0.22</td>\n",
              "      <td>0.2727</td>\n",
              "      <td>0.80</td>\n",
              "      <td>0.0</td>\n",
              "      <td>8</td>\n",
              "      <td>32</td>\n",
              "      <td>40</td>\n",
              "    </tr>\n",
              "    <tr>\n",
              "      <th>2</th>\n",
              "      <td>3</td>\n",
              "      <td>2011-01-01</td>\n",
              "      <td>1</td>\n",
              "      <td>0</td>\n",
              "      <td>1</td>\n",
              "      <td>2</td>\n",
              "      <td>0</td>\n",
              "      <td>6</td>\n",
              "      <td>0</td>\n",
              "      <td>1</td>\n",
              "      <td>0.22</td>\n",
              "      <td>0.2727</td>\n",
              "      <td>0.80</td>\n",
              "      <td>0.0</td>\n",
              "      <td>5</td>\n",
              "      <td>27</td>\n",
              "      <td>32</td>\n",
              "    </tr>\n",
              "  </tbody>\n",
              "</table>\n",
              "</div>"
            ],
            "text/plain": [
              "   instant      dteday  season  yr  mnth  hr  holiday  weekday  workingday  weathersit  temp   atemp   hum  windspeed  casual  registered  cnt\n",
              "0        1  2011-01-01       1   0     1   0        0        6           0           1  0.24  0.2879  0.81        0.0       3          13   16\n",
              "1        2  2011-01-01       1   0     1   1        0        6           0           1  0.22  0.2727  0.80        0.0       8          32   40\n",
              "2        3  2011-01-01       1   0     1   2        0        6           0           1  0.22  0.2727  0.80        0.0       5          27   32"
            ]
          },
          "execution_count": 378,
          "metadata": {},
          "output_type": "execute_result"
        }
      ],
      "source": [
        "df_hour.head(3)"
      ]
    },
    {
      "cell_type": "markdown",
      "metadata": {
        "id": "MMi6xGaDkbCi"
      },
      "source": [
        "**Insight:**\n",
        "- `dtday` dan `hr` digunakan untuk group rata-rata nilai dari `temp`, `atemp`, `hum` & `windspeed`.\n",
        "- Berdasarkan Readme.txt, terdapat normalisasi untuk keseragaman data\n",
        "  - Suhu (temp) dinormalisasi dengan cara dibagi 41, yang berarti nilai aslinya adalah temp * 41 dalam derajat Celsius.\n",
        "  - Suhu terasa (atemp) dinormalisasi dengan cara dibagi 50, jadi nilai aslinya adalah atemp * 50 dalam derajat Celsius.\n",
        "  - Kelembaban (hum) dinormalisasi dengan cara dibagi 100, jadi nilai aslinya adalah hum * 100 dalam persen (%).\n",
        "  - Kecepatan angin (windspeed) dinormalisasi dengan cara dibagi 67, jadi nilai aslinya adalah windspeed * 67 dalam satuan tertentu.\n",
        "- dataframe `day.csv` mengandung agregasi `hour.csv` pada beberapa data berikut:\n",
        "  - `temp`,\t`atemp`,\t`hum`,\t`windspeed` dikelompokkan berdasarkan nilai rata-rata per hari. \n",
        "  - `weathersit` dikelompokkan berdasarkan nilai modus per hari.\n",
        "  - `casual`,\t`registered`,\t`cnt` dikelompokkan berdasarkan jumlah total per hari."
      ]
    },
    {
      "cell_type": "markdown",
      "metadata": {},
      "source": [
        "Untuk memastikan apakah kolom weathersit, temp, atemp, hum, windspeed, casual, registered, dan cnt dalam df_day adalah agregrasi harian dari df_hour, kita bisa melakukan perbandingan dengan cara berikut:"
      ]
    },
    {
      "cell_type": "code",
      "execution_count": 379,
      "metadata": {},
      "outputs": [
        {
          "name": "stdout",
          "output_type": "stream",
          "text": [
            "          temp_diff    atemp_diff      hum_diff  windspeed_diff  weathersit_diff  casual_diff  registered_diff  cnt_diff\n",
            "count  7.310000e+02  7.310000e+02  7.310000e+02    7.310000e+02       731.000000        731.0            731.0     731.0\n",
            "mean   1.779739e-11  1.000772e-08 -2.622606e-09   -1.443825e-08         0.097127          0.0              0.0       0.0\n",
            "std    2.736837e-07  2.931941e-07  2.751549e-07    2.694124e-07         0.355204          0.0              0.0       0.0\n",
            "min   -4.782609e-07 -5.000000e-07 -5.217391e-07   -5.000000e-07        -1.000000          0.0              0.0       0.0\n",
            "25%   -3.333333e-07 -1.666667e-07 -3.333333e-07   -1.666667e-07         0.000000          0.0              0.0       0.0\n",
            "50%    0.000000e+00  0.000000e+00  0.000000e+00    0.000000e+00         0.000000          0.0              0.0       0.0\n",
            "75%    3.333333e-07  2.608696e-07  3.333333e-07    1.666667e-07         0.000000          0.0              0.0       0.0\n",
            "max    4.782609e-07  5.000000e-07  4.782609e-07    5.000000e-07         1.000000          0.0              0.0       0.0\n"
          ]
        }
      ],
      "source": [
        "# Pastikan dteday dalam format datetime\n",
        "df_hour[\"dteday\"] = pd.to_datetime(df_hour[\"dteday\"])\n",
        "df_day[\"dteday\"] = pd.to_datetime(df_day[\"dteday\"])\n",
        "\n",
        "# Hitung rata-rata harian untuk temp, atemp, hum, windspeed\n",
        "df_hour_avg = df_hour.groupby(\"dteday\")[[\"temp\", \"atemp\", \"hum\", \"windspeed\"]].mean().reset_index()\n",
        "\n",
        "# Hitung modus harian untuk weathersit\n",
        "df_hour_mode = df_hour.groupby(\"dteday\")[\"weathersit\"].apply(lambda x: x.mode()[0]).reset_index()\n",
        "\n",
        "# Hitung total harian untuk casual, registered, cnt\n",
        "df_hour_sum = df_hour.groupby(\"dteday\")[[\"casual\", \"registered\", \"cnt\"]].sum().reset_index()\n",
        "\n",
        "# Gabungkan semua hasil agregasi\n",
        "df_hour_daily = df_hour_avg.merge(df_hour_mode, on=\"dteday\").merge(df_hour_sum, on=\"dteday\")\n",
        "\n",
        "# Gabungkan dengan df_day untuk perbandingan\n",
        "df_comparison = df_day.merge(df_hour_daily, on=\"dteday\", suffixes=(\"_day\", \"_hour_agg\"))\n",
        "\n",
        "# Hitung selisih antara nilai di df_day dan hasil agregasi dari df_hour\n",
        "df_comparison[\"temp_diff\"] = df_comparison[\"temp_day\"] - df_comparison[\"temp_hour_agg\"]\n",
        "df_comparison[\"atemp_diff\"] = df_comparison[\"atemp_day\"] - df_comparison[\"atemp_hour_agg\"]\n",
        "df_comparison[\"hum_diff\"] = df_comparison[\"hum_day\"] - df_comparison[\"hum_hour_agg\"]\n",
        "df_comparison[\"windspeed_diff\"] = df_comparison[\"windspeed_day\"] - df_comparison[\"windspeed_hour_agg\"]\n",
        "df_comparison[\"weathersit_diff\"] = df_comparison[\"weathersit_day\"] - df_comparison[\"weathersit_hour_agg\"]\n",
        "df_comparison[\"casual_diff\"] = df_comparison[\"casual_day\"] - df_comparison[\"casual_hour_agg\"]\n",
        "df_comparison[\"registered_diff\"] = df_comparison[\"registered_day\"] - df_comparison[\"registered_hour_agg\"]\n",
        "df_comparison[\"cnt_diff\"] = df_comparison[\"cnt_day\"] - df_comparison[\"cnt_hour_agg\"]\n",
        "\n",
        "# Periksa apakah semua selisih mendekati nol\n",
        "print(df_comparison[[\"temp_diff\", \"atemp_diff\", \"hum_diff\", \"windspeed_diff\", \n",
        "                      \"weathersit_diff\", \"casual_diff\", \"registered_diff\", \"cnt_diff\"]].describe())\n"
      ]
    },
    {
      "cell_type": "markdown",
      "metadata": {},
      "source": [
        "**Insight:**\n",
        "- Kolom temp, atemp, hum, dan windspeed\n",
        "  - Mean (≈ 0) → Nilai rata-rata selisih sangat kecil (~10⁻⁷ atau lebih kecil), mendekati nol.\n",
        "  - Std Dev (≈ 10⁻⁷) → Variasi sangat kecil, menunjukkan bahwa nilai dari df_day hampir selalu sesuai dengan rata-rata harian dari df_hour.\n",
        "  - Min & Max (≈ ±5×10⁻⁷) → Rentang perbedaan sangat kecil, kemungkinan hanya karena presisi perhitungan atau pembulatan angka.\n",
        "  - Kesimpulan → temp, atemp, hum, dan windspeed di df_day memang benar hasil rata-rata dari df_hour. ✅\n",
        "- Kolom weathersit\n",
        "  - Mean (≈ 0.097) → Ada sedikit perbedaan rata-rata antara df_day dan df_hour.\n",
        "  - Std Dev (≈ 0.35) → Cukup besar dibandingkan kolom lainnya, menunjukkan bahwa ada beberapa hari di mana nilai weathersit di df_day tidak sama dengan modus harian dari df_hour.\n",
        "  - Min (-1.0) & Max (1.0) → Ada hari di mana nilai weathersit di df_day lebih tinggi atau lebih rendah dari nilai modus harian df_hour hingga 1 unit.\n",
        "  - Kesimpulan →\n",
        "    - Sebagian besar hari nilai weathersit sesuai dengan modus df_hour, tetapi ada beberapa perbedaan kecil.\n",
        "    - Ini bisa terjadi karena metode agregasi weathersit di df_day mungkin menggunakan metode selain modus (mode).\n",
        "    - Bisa dicek lebih lanjut apakah ada hari-hari di mana tidak ada nilai weathersit yang dominan dalam df_hour.\n",
        "- Kolom casual, registered, dan cnt\n",
        "  - Mean (= 0) & Std Dev (= 0) → Semua nilai selisih adalah 0.\n",
        "  - Min & Max (= 0) → Tidak ada perbedaan sama sekali antara df_day dan hasil agregasi df_hour.\n",
        "  - Kesimpulan → casual, registered, dan cnt di df_day adalah benar hasil penjumlahan dari df_hour. ✅"
      ]
    },
    {
      "cell_type": "code",
      "execution_count": 380,
      "metadata": {
        "id": "ax-3tEjc9Cj1"
      },
      "outputs": [
        {
          "name": "stdout",
          "output_type": "stream",
          "text": [
            "<class 'pandas.core.frame.DataFrame'>\n",
            "RangeIndex: 17379 entries, 0 to 17378\n",
            "Data columns (total 17 columns):\n",
            " #   Column      Non-Null Count  Dtype         \n",
            "---  ------      --------------  -----         \n",
            " 0   instant     17379 non-null  int64         \n",
            " 1   dteday      17379 non-null  datetime64[ns]\n",
            " 2   season      17379 non-null  int64         \n",
            " 3   yr          17379 non-null  int64         \n",
            " 4   mnth        17379 non-null  int64         \n",
            " 5   hr          17379 non-null  int64         \n",
            " 6   holiday     17379 non-null  int64         \n",
            " 7   weekday     17379 non-null  int64         \n",
            " 8   workingday  17379 non-null  int64         \n",
            " 9   weathersit  17379 non-null  int64         \n",
            " 10  temp        17379 non-null  float64       \n",
            " 11  atemp       17379 non-null  float64       \n",
            " 12  hum         17379 non-null  float64       \n",
            " 13  windspeed   17379 non-null  float64       \n",
            " 14  casual      17379 non-null  int64         \n",
            " 15  registered  17379 non-null  int64         \n",
            " 16  cnt         17379 non-null  int64         \n",
            "dtypes: datetime64[ns](1), float64(4), int64(12)\n",
            "memory usage: 2.3 MB\n",
            "None\n"
          ]
        }
      ],
      "source": [
        "print(df_hour.info()) # Tampilkan informasi tentang data kita gunakan df_hour karena lebih lengkap"
      ]
    },
    {
      "cell_type": "markdown",
      "metadata": {
        "id": "7dtxhAPrkhPL"
      },
      "source": [
        "**Insight:** \n",
        "<br>Ada beberapa pola kelompok data:\n",
        " - **Waktu** (dteday, season, yr, mnth, holiday, weekday, workingday)\n",
        "    - **Waktu Terikat** (yr + mnth = dteday) [📊mungkin perlu dicek]\n",
        "    - **Waktu Boolean** (holiday & workingday)\n",
        "    - **Waktu Nominal** (yr, season, mnth, weekday)\n",
        " - **Diskrit** (casual, registered, & cnt)\n",
        " - **Ordinal** (weathersit)\n",
        " - **kontinue** (temp, atemp, hum, & windspeed)"
      ]
    },
    {
      "cell_type": "markdown",
      "metadata": {},
      "source": [
        "### Merging Data"
      ]
    },
    {
      "cell_type": "markdown",
      "metadata": {},
      "source": [
        "- Apakah kedua dataset perlu digabungkan? tergantung:\n",
        "  - Jika skala-nya day-level cukup pakai df_day.\n",
        "  - Jika skala-nya hour-level pakai df_hour. \n",
        "  - Jika mencari nilai rata-rata (temp or hum) per hari, data bisa digabungkan berdasarkan hari. \n",
        "- df_day memiliki 731 record, jika di pecah mejadi 24 jam, maka seharusnya ada 731*24 = 17.544 record. Tapi hanya ada 17.379 record di df_hour"
      ]
    },
    {
      "cell_type": "markdown",
      "metadata": {},
      "source": [
        "#### Periksa Rentang Waktu"
      ]
    },
    {
      "cell_type": "markdown",
      "metadata": {},
      "source": [
        "Lihat range waktu dteday tiap dataset df_day dan df_hour ini akan menjadi acuan jika ada tanggal hilang"
      ]
    },
    {
      "cell_type": "code",
      "execution_count": 381,
      "metadata": {},
      "outputs": [
        {
          "name": "stdout",
          "output_type": "stream",
          "text": [
            "dteday   2011-01-01\n",
            "dtype: datetime64[ns]\n",
            "dteday   2012-12-31\n",
            "dtype: datetime64[ns]\n",
            "\n",
            " dteday    2011-01-01 00:00:00\n",
            "hr                          0\n",
            "dtype: object\n",
            "dteday    2012-12-31 00:00:00\n",
            "hr                         23\n",
            "dtype: object\n"
          ]
        }
      ],
      "source": [
        "print(df_day[['dteday']].min())\n",
        "print(df_day[['dteday']].max())\n",
        "print(\"\\n\",df_hour[['dteday','hr']].min())\n",
        "print(df_hour[['dteday','hr']].max())\n",
        "# Range 2011-01-01 00:00:00 -> 2012-12-31 23:00:00"
      ]
    },
    {
      "cell_type": "markdown",
      "metadata": {},
      "source": [
        "Untuk mengecek apakah ada tanggal (dteday) yang hilang dalam rentang \"2011-01-01\" sampai \"2012-12-31\" di df_day, kita bisa melakukan perbandingan dengan rentang tanggal yang seharusnya ada."
      ]
    },
    {
      "cell_type": "code",
      "execution_count": 382,
      "metadata": {},
      "outputs": [
        {
          "name": "stdout",
          "output_type": "stream",
          "text": [
            "Jumlah tanggal yang hilang: 0\n",
            "Tanggal yang hilang: []\n"
          ]
        }
      ],
      "source": [
        "# Pastikan dteday dalam format datetime\n",
        "df_day[\"dteday\"] = pd.to_datetime(df_day[\"dteday\"])\n",
        "\n",
        "# Buat rentang tanggal dari 2011-01-01 sampai 2012-12-31\n",
        "expected_dates = pd.date_range(start=\"2011-01-01\", end=\"2012-12-31\", freq=\"D\")\n",
        "\n",
        "# Cari tanggal yang hilang\n",
        "missing_dates = set(expected_dates) - set(df_day[\"dteday\"])\n",
        "\n",
        "# Cek hasil\n",
        "print(f\"Jumlah tanggal yang hilang: {len(missing_dates)}\")\n",
        "print(\"Tanggal yang hilang:\", sorted(missing_dates))"
      ]
    },
    {
      "cell_type": "code",
      "execution_count": 383,
      "metadata": {},
      "outputs": [
        {
          "name": "stdout",
          "output_type": "stream",
          "text": [
            "Series([], Name: count, dtype: int64)\n"
          ]
        }
      ],
      "source": [
        "# Cek apakah ada dteday yang duplikat pada df_day.dteday\n",
        "duplicates = df_day[\"dteday\"].value_counts()\n",
        "duplicates = duplicates[duplicates > 1]\n",
        "print(duplicates)"
      ]
    },
    {
      "cell_type": "code",
      "execution_count": 384,
      "metadata": {},
      "outputs": [
        {
          "name": "stdout",
          "output_type": "stream",
          "text": [
            "Seharusnya ada 17544 jam, tetapi ada 17379 jam dalam dataset.\n",
            "Jumlah timestamp yang hilang: 165\n"
          ]
        },
        {
          "data": {
            "text/plain": [
              "{Timestamp('2011-01-02 05:00:00'),\n",
              " Timestamp('2011-01-03 02:00:00'),\n",
              " Timestamp('2011-01-03 03:00:00'),\n",
              " Timestamp('2011-01-04 03:00:00'),\n",
              " Timestamp('2011-01-05 03:00:00'),\n",
              " Timestamp('2011-01-06 03:00:00'),\n",
              " Timestamp('2011-01-07 03:00:00'),\n",
              " Timestamp('2011-01-11 03:00:00'),\n",
              " Timestamp('2011-01-11 04:00:00'),\n",
              " Timestamp('2011-01-12 03:00:00'),\n",
              " Timestamp('2011-01-12 04:00:00'),\n",
              " Timestamp('2011-01-14 04:00:00'),\n",
              " Timestamp('2011-01-18 00:00:00'),\n",
              " Timestamp('2011-01-18 01:00:00'),\n",
              " Timestamp('2011-01-18 02:00:00'),\n",
              " Timestamp('2011-01-18 03:00:00'),\n",
              " Timestamp('2011-01-18 04:00:00'),\n",
              " Timestamp('2011-01-18 05:00:00'),\n",
              " Timestamp('2011-01-18 06:00:00'),\n",
              " Timestamp('2011-01-18 07:00:00'),\n",
              " Timestamp('2011-01-18 08:00:00'),\n",
              " Timestamp('2011-01-18 09:00:00'),\n",
              " Timestamp('2011-01-18 10:00:00'),\n",
              " Timestamp('2011-01-18 11:00:00'),\n",
              " Timestamp('2011-01-19 03:00:00'),\n",
              " Timestamp('2011-01-22 05:00:00'),\n",
              " Timestamp('2011-01-23 04:00:00'),\n",
              " Timestamp('2011-01-24 02:00:00'),\n",
              " Timestamp('2011-01-25 03:00:00'),\n",
              " Timestamp('2011-01-26 03:00:00'),\n",
              " Timestamp('2011-01-26 04:00:00'),\n",
              " Timestamp('2011-01-26 18:00:00'),\n",
              " Timestamp('2011-01-26 19:00:00'),\n",
              " Timestamp('2011-01-26 20:00:00'),\n",
              " Timestamp('2011-01-26 21:00:00'),\n",
              " Timestamp('2011-01-26 22:00:00'),\n",
              " Timestamp('2011-01-26 23:00:00'),\n",
              " Timestamp('2011-01-27 00:00:00'),\n",
              " Timestamp('2011-01-27 01:00:00'),\n",
              " Timestamp('2011-01-27 02:00:00'),\n",
              " Timestamp('2011-01-27 03:00:00'),\n",
              " Timestamp('2011-01-27 04:00:00'),\n",
              " Timestamp('2011-01-27 05:00:00'),\n",
              " Timestamp('2011-01-27 06:00:00'),\n",
              " Timestamp('2011-01-27 07:00:00'),\n",
              " Timestamp('2011-01-27 08:00:00'),\n",
              " Timestamp('2011-01-27 09:00:00'),\n",
              " Timestamp('2011-01-27 10:00:00'),\n",
              " Timestamp('2011-01-27 11:00:00'),\n",
              " Timestamp('2011-01-27 12:00:00'),\n",
              " Timestamp('2011-01-27 13:00:00'),\n",
              " Timestamp('2011-01-27 14:00:00'),\n",
              " Timestamp('2011-01-27 15:00:00'),\n",
              " Timestamp('2011-01-28 04:00:00'),\n",
              " Timestamp('2011-01-29 05:00:00'),\n",
              " Timestamp('2011-01-30 06:00:00'),\n",
              " Timestamp('2011-02-01 04:00:00'),\n",
              " Timestamp('2011-02-03 04:00:00'),\n",
              " Timestamp('2011-02-04 04:00:00'),\n",
              " Timestamp('2011-02-09 04:00:00'),\n",
              " Timestamp('2011-02-10 03:00:00'),\n",
              " Timestamp('2011-02-11 03:00:00'),\n",
              " Timestamp('2011-02-11 04:00:00'),\n",
              " Timestamp('2011-02-13 05:00:00'),\n",
              " Timestamp('2011-02-15 03:00:00'),\n",
              " Timestamp('2011-02-16 02:00:00'),\n",
              " Timestamp('2011-02-20 05:00:00'),\n",
              " Timestamp('2011-02-22 00:00:00'),\n",
              " Timestamp('2011-02-22 01:00:00'),\n",
              " Timestamp('2011-02-22 02:00:00'),\n",
              " Timestamp('2011-02-22 03:00:00'),\n",
              " Timestamp('2011-02-22 04:00:00'),\n",
              " Timestamp('2011-02-22 05:00:00'),\n",
              " Timestamp('2011-02-23 04:00:00'),\n",
              " Timestamp('2011-02-24 04:00:00'),\n",
              " Timestamp('2011-02-25 04:00:00'),\n",
              " Timestamp('2011-02-27 05:00:00'),\n",
              " Timestamp('2011-02-28 02:00:00'),\n",
              " Timestamp('2011-02-28 04:00:00'),\n",
              " Timestamp('2011-03-06 05:00:00'),\n",
              " Timestamp('2011-03-07 02:00:00'),\n",
              " Timestamp('2011-03-10 03:00:00'),\n",
              " Timestamp('2011-03-10 04:00:00'),\n",
              " Timestamp('2011-03-11 04:00:00'),\n",
              " Timestamp('2011-03-13 02:00:00'),\n",
              " Timestamp('2011-03-14 04:00:00'),\n",
              " Timestamp('2011-03-15 03:00:00'),\n",
              " Timestamp('2011-03-16 02:00:00'),\n",
              " Timestamp('2011-03-18 04:00:00'),\n",
              " Timestamp('2011-03-21 04:00:00'),\n",
              " Timestamp('2011-03-23 04:00:00'),\n",
              " Timestamp('2011-03-27 05:00:00'),\n",
              " Timestamp('2011-03-28 04:00:00'),\n",
              " Timestamp('2011-04-11 03:00:00'),\n",
              " Timestamp('2011-08-27 18:00:00'),\n",
              " Timestamp('2011-08-27 19:00:00'),\n",
              " Timestamp('2011-08-27 20:00:00'),\n",
              " Timestamp('2011-08-27 21:00:00'),\n",
              " Timestamp('2011-08-27 22:00:00'),\n",
              " Timestamp('2011-08-27 23:00:00'),\n",
              " Timestamp('2011-08-28 00:00:00'),\n",
              " Timestamp('2011-08-28 01:00:00'),\n",
              " Timestamp('2011-08-28 02:00:00'),\n",
              " Timestamp('2011-08-28 03:00:00'),\n",
              " Timestamp('2011-08-28 04:00:00'),\n",
              " Timestamp('2011-08-28 05:00:00'),\n",
              " Timestamp('2011-08-28 06:00:00'),\n",
              " Timestamp('2011-09-06 01:00:00'),\n",
              " Timestamp('2011-09-08 02:00:00'),\n",
              " Timestamp('2011-09-12 03:00:00'),\n",
              " Timestamp('2011-10-19 03:00:00'),\n",
              " Timestamp('2011-11-28 02:00:00'),\n",
              " Timestamp('2011-12-25 04:00:00'),\n",
              " Timestamp('2011-12-26 03:00:00'),\n",
              " Timestamp('2011-12-28 04:00:00'),\n",
              " Timestamp('2012-01-02 03:00:00'),\n",
              " Timestamp('2012-01-10 03:00:00'),\n",
              " Timestamp('2012-01-17 03:00:00'),\n",
              " Timestamp('2012-02-06 03:00:00'),\n",
              " Timestamp('2012-02-20 04:00:00'),\n",
              " Timestamp('2012-02-21 03:00:00'),\n",
              " Timestamp('2012-02-29 04:00:00'),\n",
              " Timestamp('2012-03-11 02:00:00'),\n",
              " Timestamp('2012-04-02 03:00:00'),\n",
              " Timestamp('2012-04-11 04:00:00'),\n",
              " Timestamp('2012-10-29 01:00:00'),\n",
              " Timestamp('2012-10-29 02:00:00'),\n",
              " Timestamp('2012-10-29 03:00:00'),\n",
              " Timestamp('2012-10-29 04:00:00'),\n",
              " Timestamp('2012-10-29 05:00:00'),\n",
              " Timestamp('2012-10-29 06:00:00'),\n",
              " Timestamp('2012-10-29 07:00:00'),\n",
              " Timestamp('2012-10-29 08:00:00'),\n",
              " Timestamp('2012-10-29 09:00:00'),\n",
              " Timestamp('2012-10-29 10:00:00'),\n",
              " Timestamp('2012-10-29 11:00:00'),\n",
              " Timestamp('2012-10-29 12:00:00'),\n",
              " Timestamp('2012-10-29 13:00:00'),\n",
              " Timestamp('2012-10-29 14:00:00'),\n",
              " Timestamp('2012-10-29 15:00:00'),\n",
              " Timestamp('2012-10-29 16:00:00'),\n",
              " Timestamp('2012-10-29 17:00:00'),\n",
              " Timestamp('2012-10-29 18:00:00'),\n",
              " Timestamp('2012-10-29 19:00:00'),\n",
              " Timestamp('2012-10-29 20:00:00'),\n",
              " Timestamp('2012-10-29 21:00:00'),\n",
              " Timestamp('2012-10-29 22:00:00'),\n",
              " Timestamp('2012-10-29 23:00:00'),\n",
              " Timestamp('2012-10-30 00:00:00'),\n",
              " Timestamp('2012-10-30 01:00:00'),\n",
              " Timestamp('2012-10-30 02:00:00'),\n",
              " Timestamp('2012-10-30 03:00:00'),\n",
              " Timestamp('2012-10-30 04:00:00'),\n",
              " Timestamp('2012-10-30 05:00:00'),\n",
              " Timestamp('2012-10-30 06:00:00'),\n",
              " Timestamp('2012-10-30 07:00:00'),\n",
              " Timestamp('2012-10-30 08:00:00'),\n",
              " Timestamp('2012-10-30 09:00:00'),\n",
              " Timestamp('2012-10-30 10:00:00'),\n",
              " Timestamp('2012-10-30 11:00:00'),\n",
              " Timestamp('2012-10-30 12:00:00'),\n",
              " Timestamp('2012-11-08 03:00:00'),\n",
              " Timestamp('2012-11-29 03:00:00'),\n",
              " Timestamp('2012-12-24 04:00:00'),\n",
              " Timestamp('2012-12-25 03:00:00')}"
            ]
          },
          "execution_count": 384,
          "metadata": {},
          "output_type": "execute_result"
        }
      ],
      "source": [
        "## Periksa detail terkait rentang waktu yang hilang pada df_hour.dteday terhadap df_hour.timestamp\n",
        "# Buat rentang waktu yang seharusnya ada\n",
        "date_range = pd.date_range(start=\"2011-01-01\", end=\"2013-01-01\", freq=\"h\")  # Rentang per jam (dari Timestamp('2012-12-31 00:00:00') sampai Timestamp('2013-01-01 00:00:00'))\n",
        "date_range = date_range[:-1] # Hilangkan 1 data di ujung (jadi dapat 731*24 = 17.544 record)\n",
        "expected_hours = len(date_range)\n",
        "\n",
        "# Cek jumlah seharusnya vs jumlah yang ada\n",
        "print(f\"Seharusnya ada {expected_hours} jam, tetapi ada {len(df_hour)} jam dalam dataset.\")\n",
        "\n",
        "# Pastikan dteday bertipe datetime\n",
        "df_hour[\"dteday\"] = pd.to_datetime(df_hour[\"dteday\"])\n",
        "\n",
        "# Periksa apakah ada timestamp yang hilang\n",
        "df_hour[\"timestamp\"] = df_hour[\"dteday\"] + pd.to_timedelta(df_hour[\"hr\"], unit=\"h\")\n",
        "missing_timestamps = set(date_range) - set(df_hour[\"timestamp\"])\n",
        "\n",
        "print(f\"Jumlah timestamp yang hilang: {len(missing_timestamps)}\")\n",
        "missing_timestamps"
      ]
    },
    {
      "cell_type": "markdown",
      "metadata": {},
      "source": [
        "#### Buat DF Baru"
      ]
    },
    {
      "cell_type": "code",
      "execution_count": 385,
      "metadata": {},
      "outputs": [
        {
          "name": "stdout",
          "output_type": "stream",
          "text": [
            "timestamp       0\n",
            "dteday        165\n",
            "yr            165\n",
            "hr            165\n",
            "workingday    165\n",
            "weathersit    165\n",
            "temp          165\n",
            "atemp         165\n",
            "hum           165\n",
            "windspeed     165\n",
            "casual        165\n",
            "registered    165\n",
            "cnt           165\n",
            "dtype: int64\n"
          ]
        }
      ],
      "source": [
        "# Periksa row yang null\n",
        "full_df = pd.DataFrame({\"timestamp\": date_range})\n",
        "\n",
        "# Gabungkan dengan data asli\n",
        "df_filled = full_df.merge(df_hour, on=\"timestamp\", how=\"left\")\n",
        "\n",
        "## --- HAPUS KOLOM YANG TIDAK DIBUTUHKAN ---\n",
        "df_filled.drop(columns=[\"instant\", \"season\", \"mnth\", \"holiday\", \"weekday\"], inplace=True)\n",
        "\n",
        "print(df_filled.isnull().sum())  # Cek jumlah missing values"
      ]
    },
    {
      "cell_type": "code",
      "execution_count": 386,
      "metadata": {},
      "outputs": [
        {
          "name": "stdout",
          "output_type": "stream",
          "text": [
            "<class 'pandas.core.frame.DataFrame'>\n",
            "RangeIndex: 17544 entries, 0 to 17543\n",
            "Data columns (total 13 columns):\n",
            " #   Column      Non-Null Count  Dtype         \n",
            "---  ------      --------------  -----         \n",
            " 0   timestamp   17544 non-null  datetime64[ns]\n",
            " 1   dteday      17379 non-null  datetime64[ns]\n",
            " 2   yr          17379 non-null  float64       \n",
            " 3   hr          17379 non-null  float64       \n",
            " 4   workingday  17379 non-null  float64       \n",
            " 5   weathersit  17379 non-null  float64       \n",
            " 6   temp        17379 non-null  float64       \n",
            " 7   atemp       17379 non-null  float64       \n",
            " 8   hum         17379 non-null  float64       \n",
            " 9   windspeed   17379 non-null  float64       \n",
            " 10  casual      17379 non-null  float64       \n",
            " 11  registered  17379 non-null  float64       \n",
            " 12  cnt         17379 non-null  float64       \n",
            "dtypes: datetime64[ns](2), float64(11)\n",
            "memory usage: 1.7 MB\n",
            "None\n"
          ]
        }
      ],
      "source": [
        "# periksa tipe\n",
        "print(df_filled.info(\n",
        "    verbose=True \n",
        "))"
      ]
    },
    {
      "cell_type": "code",
      "execution_count": 387,
      "metadata": {},
      "outputs": [
        {
          "name": "stdout",
          "output_type": "stream",
          "text": [
            "<class 'pandas.core.frame.DataFrame'>\n",
            "RangeIndex: 731 entries, 0 to 730\n",
            "Data columns (total 16 columns):\n",
            " #   Column      Non-Null Count  Dtype         \n",
            "---  ------      --------------  -----         \n",
            " 0   instant     731 non-null    int64         \n",
            " 1   dteday      731 non-null    datetime64[ns]\n",
            " 2   season      731 non-null    int64         \n",
            " 3   yr          731 non-null    int64         \n",
            " 4   mnth        731 non-null    int64         \n",
            " 5   holiday     731 non-null    int64         \n",
            " 6   weekday     731 non-null    int64         \n",
            " 7   workingday  731 non-null    int64         \n",
            " 8   weathersit  731 non-null    int64         \n",
            " 9   temp        731 non-null    float64       \n",
            " 10  atemp       731 non-null    float64       \n",
            " 11  hum         731 non-null    float64       \n",
            " 12  windspeed   731 non-null    float64       \n",
            " 13  casual      731 non-null    int64         \n",
            " 14  registered  731 non-null    int64         \n",
            " 15  cnt         731 non-null    int64         \n",
            "dtypes: datetime64[ns](1), float64(4), int64(11)\n",
            "memory usage: 91.5 KB\n",
            "None\n"
          ]
        }
      ],
      "source": [
        "# periksa tipe\n",
        "print(df_day.info(\n",
        "    verbose=True \n",
        "))"
      ]
    },
    {
      "cell_type": "markdown",
      "metadata": {},
      "source": [
        "Memasukkan data kosong dan memperbaiki Tipe Data"
      ]
    },
    {
      "cell_type": "code",
      "execution_count": 388,
      "metadata": {},
      "outputs": [],
      "source": [
        "# Fungsi untuk menghitung modus tanpa stats.mode\n",
        "def mode_without_stats(series):\n",
        "    return series.value_counts().idxmax() if not series.isnull().all() else None\n",
        "\n",
        "# Hitung agregasi\n",
        "day_agg = df_hour.groupby(\"dteday\").agg({\n",
        "    \"temp\": \"mean\",\n",
        "    \"atemp\": \"mean\",\n",
        "    \"hum\": \"mean\",\n",
        "    \"windspeed\": \"mean\",\n",
        "    \"weathersit\": mode_without_stats,  # Hitung modus tanpa stats\n",
        "    \"casual\": \"sum\",\n",
        "    \"registered\": \"sum\",\n",
        "    \"cnt\": \"sum\",\n",
        "    \"workingday\": \"mean\",\n",
        "    \"yr\": \"mean\"\n",
        "}).reset_index()\n",
        "\n",
        "# Pastikan dteday dalam df_filled bertipe datetime\n",
        "df_filled[\"dteday\"] = df_filled[\"timestamp\"].dt.date  # Ambil hanya tanggal\n",
        "df_filled[\"dteday\"] = pd.to_datetime(df_filled[\"dteday\"])  # Konversi ke datetime\n",
        "\n",
        "# Gabungkan data\n",
        "df_filled = df_filled.merge(day_agg, on=\"dteday\", how=\"left\", suffixes=('', '_day'))\n",
        "\n",
        "fill_columns = [\"temp\", \"atemp\", \"hum\", \"windspeed\", \"weathersit\", \"casual\", \"registered\", \"cnt\", \"workingday\", \"yr\"]\n",
        "\n",
        "for col in fill_columns:\n",
        "    df_filled[col] = df_filled[col].fillna(df_filled[f\"{col}_day\"])\n",
        "\n",
        "# Hapus kolom tambahan\n",
        "df_filled.drop(columns=[f\"{col}_day\" for col in fill_columns], inplace=True)\n",
        "\n",
        "# Isi dteday berdasarkan di df_day\n",
        "df_filled[\"dteday\"] = df_filled[\"timestamp\"].dt.date\n",
        "\n",
        "# Ubah df_filled[\"dteday\"] menjadi datetime64[ns]\n",
        "df_filled[\"dteday\"] = pd.to_datetime(df_filled[\"dteday\"])\n",
        "\n",
        "# Isi nilai hr berdasarkan timestamp\n",
        "df_filled[\"hr\"] = df_filled[\"timestamp\"].dt.hour\n",
        "\n",
        "# ubah format yr, workingday, weathersit, casual, registered, cnt jadi int\n",
        "df_filled[\"yr\"] = pd.to_numeric(df_filled[\"yr\"], errors=\"coerce\").fillna(0).astype(\"int32\")\n",
        "df_filled[\"workingday\"] = pd.to_numeric(df_filled[\"workingday\"], errors=\"coerce\").fillna(0).astype(\"int32\")\n",
        "df_filled[\"weathersit\"] = pd.to_numeric(df_filled[\"weathersit\"], errors=\"coerce\").fillna(0).astype(\"int32\")\n",
        "df_filled[\"casual\"] = pd.to_numeric(df_filled[\"casual\"], errors=\"coerce\").fillna(0).astype(\"int64\")\n",
        "df_filled[\"registered\"] = pd.to_numeric(df_filled[\"registered\"], errors=\"coerce\").fillna(0).astype(\"int64\")\n",
        "df_filled[\"cnt\"] = pd.to_numeric(df_filled[\"cnt\"], errors=\"coerce\").fillna(0).astype(\"int64\")\n",
        "\n",
        "### ---- UBAH FORMAT KOLOM ------ ###\n",
        "# 2   yr          17379 non-null  float64       \n",
        "#  3   hr          17379 non-null  float64       \n",
        "#  4   workingday  17379 non-null  float64       \n",
        "#  5   weathersit  17379 non-null  float64       \n",
        "#  6   temp        17379 non-null  float64       \n",
        "#  7   atemp       17379 non-null  float64       \n",
        "#  8   hum         17379 non-null  float64       \n",
        "#  9   windspeed   17379 non-null  float64       \n",
        "#  10  casual      17379 non-null  float64       \n",
        "#  11  registered  17379 non-null  float64       \n",
        "#  12  cnt         17379 non-null  float64  \n",
        "\n"
      ]
    },
    {
      "cell_type": "code",
      "execution_count": 389,
      "metadata": {},
      "outputs": [
        {
          "name": "stdout",
          "output_type": "stream",
          "text": [
            "timestamp     0\n",
            "dteday        0\n",
            "yr            0\n",
            "hr            0\n",
            "workingday    0\n",
            "weathersit    0\n",
            "temp          0\n",
            "atemp         0\n",
            "hum           0\n",
            "windspeed     0\n",
            "casual        0\n",
            "registered    0\n",
            "cnt           0\n",
            "dtype: int64\n",
            "\n",
            " 17544\n"
          ]
        }
      ],
      "source": [
        "print(df_filled.isnull().sum())  # Cek jumlah missing values, harusnya semua nol (0)\n",
        "print(\"\\n\",len(df_filled)) # Target 17.544 = 24 * 731 (len(df_day) dari \"2011-01-01\" sampai \"2012-12-31\")"
      ]
    },
    {
      "cell_type": "code",
      "execution_count": 390,
      "metadata": {},
      "outputs": [
        {
          "data": {
            "text/html": [
              "<div>\n",
              "<style scoped>\n",
              "    .dataframe tbody tr th:only-of-type {\n",
              "        vertical-align: middle;\n",
              "    }\n",
              "\n",
              "    .dataframe tbody tr th {\n",
              "        vertical-align: top;\n",
              "    }\n",
              "\n",
              "    .dataframe thead th {\n",
              "        text-align: right;\n",
              "    }\n",
              "</style>\n",
              "<table border=\"1\" class=\"dataframe\">\n",
              "  <thead>\n",
              "    <tr style=\"text-align: right;\">\n",
              "      <th></th>\n",
              "      <th>timestamp</th>\n",
              "      <th>dteday</th>\n",
              "      <th>yr</th>\n",
              "      <th>hr</th>\n",
              "      <th>workingday</th>\n",
              "      <th>weathersit</th>\n",
              "      <th>temp</th>\n",
              "      <th>atemp</th>\n",
              "      <th>hum</th>\n",
              "      <th>windspeed</th>\n",
              "      <th>casual</th>\n",
              "      <th>registered</th>\n",
              "      <th>cnt</th>\n",
              "    </tr>\n",
              "  </thead>\n",
              "  <tbody>\n",
              "    <tr>\n",
              "      <th>0</th>\n",
              "      <td>2011-01-01 00:00:00</td>\n",
              "      <td>2011-01-01</td>\n",
              "      <td>0</td>\n",
              "      <td>0</td>\n",
              "      <td>0</td>\n",
              "      <td>1</td>\n",
              "      <td>0.24</td>\n",
              "      <td>0.2879</td>\n",
              "      <td>0.81</td>\n",
              "      <td>0.0</td>\n",
              "      <td>3</td>\n",
              "      <td>13</td>\n",
              "      <td>16</td>\n",
              "    </tr>\n",
              "    <tr>\n",
              "      <th>1</th>\n",
              "      <td>2011-01-01 01:00:00</td>\n",
              "      <td>2011-01-01</td>\n",
              "      <td>0</td>\n",
              "      <td>1</td>\n",
              "      <td>0</td>\n",
              "      <td>1</td>\n",
              "      <td>0.22</td>\n",
              "      <td>0.2727</td>\n",
              "      <td>0.80</td>\n",
              "      <td>0.0</td>\n",
              "      <td>8</td>\n",
              "      <td>32</td>\n",
              "      <td>40</td>\n",
              "    </tr>\n",
              "    <tr>\n",
              "      <th>2</th>\n",
              "      <td>2011-01-01 02:00:00</td>\n",
              "      <td>2011-01-01</td>\n",
              "      <td>0</td>\n",
              "      <td>2</td>\n",
              "      <td>0</td>\n",
              "      <td>1</td>\n",
              "      <td>0.22</td>\n",
              "      <td>0.2727</td>\n",
              "      <td>0.80</td>\n",
              "      <td>0.0</td>\n",
              "      <td>5</td>\n",
              "      <td>27</td>\n",
              "      <td>32</td>\n",
              "    </tr>\n",
              "  </tbody>\n",
              "</table>\n",
              "</div>"
            ],
            "text/plain": [
              "            timestamp     dteday  yr  hr  workingday  weathersit  temp   atemp   hum  windspeed  casual  registered  cnt\n",
              "0 2011-01-01 00:00:00 2011-01-01   0   0           0           1  0.24  0.2879  0.81        0.0       3          13   16\n",
              "1 2011-01-01 01:00:00 2011-01-01   0   1           0           1  0.22  0.2727  0.80        0.0       8          32   40\n",
              "2 2011-01-01 02:00:00 2011-01-01   0   2           0           1  0.22  0.2727  0.80        0.0       5          27   32"
            ]
          },
          "execution_count": 390,
          "metadata": {},
          "output_type": "execute_result"
        }
      ],
      "source": [
        "df_filled.head(3)"
      ]
    },
    {
      "cell_type": "code",
      "execution_count": 391,
      "metadata": {},
      "outputs": [
        {
          "name": "stdout",
          "output_type": "stream",
          "text": [
            "<class 'pandas.core.frame.DataFrame'>\n",
            "RangeIndex: 17544 entries, 0 to 17543\n",
            "Data columns (total 13 columns):\n",
            " #   Column      Non-Null Count  Dtype         \n",
            "---  ------      --------------  -----         \n",
            " 0   timestamp   17544 non-null  datetime64[ns]\n",
            " 1   dteday      17544 non-null  datetime64[ns]\n",
            " 2   yr          17544 non-null  int32         \n",
            " 3   hr          17544 non-null  int32         \n",
            " 4   workingday  17544 non-null  int32         \n",
            " 5   weathersit  17544 non-null  int32         \n",
            " 6   temp        17544 non-null  float64       \n",
            " 7   atemp       17544 non-null  float64       \n",
            " 8   hum         17544 non-null  float64       \n",
            " 9   windspeed   17544 non-null  float64       \n",
            " 10  casual      17544 non-null  int64         \n",
            " 11  registered  17544 non-null  int64         \n",
            " 12  cnt         17544 non-null  int64         \n",
            "dtypes: datetime64[ns](2), float64(4), int32(4), int64(3)\n",
            "memory usage: 1.5 MB\n",
            "None\n"
          ]
        }
      ],
      "source": [
        "# periksa tipe final (float hanya untuk temp, atemp, hum, & windspeed)\n",
        "print(df_filled.info(\n",
        "    verbose=True \n",
        "))"
      ]
    },
    {
      "cell_type": "markdown",
      "metadata": {},
      "source": [
        "#### Ekspor df_filled Keluar\n",
        "Karena data sudah di cleaning, kita akan menggunakannya untuk dashboard.py"
      ]
    },
    {
      "cell_type": "code",
      "execution_count": null,
      "metadata": {},
      "outputs": [],
      "source": [
        "## --- HAPUS KOLOM YANG TIDAK DIBUTUHKAN DI DASHBOARD ---\n",
        "df_filled.drop(columns=[\"timestamp\"], inplace=True)\n",
        "\n",
        "# df_filled.to_csv(\"dashboard/main_data.csv\", index=False) # dimatikan karena diperlukan hanya ketika ingin ekspor"
      ]
    },
    {
      "cell_type": "markdown",
      "metadata": {
        "id": "FHSiqaZp8DC1"
      },
      "source": [
        "### Assessing Data"
      ]
    },
    {
      "cell_type": "markdown",
      "metadata": {},
      "source": [
        "Masalah yang diperiksa:\n",
        "- Missing Value: Apa ada kolom data yang kosong?\n",
        "- Invalid value: Apa ada data yang tidak masuk akal atau diluar ketentuan?\n",
        "- Duplicate Data: Apa ada data yang sama atau berulang?\n",
        "- Inacurate Value: Apa ada data yang tidak sesuai hasil observasi?\n",
        "- Inconsistent Value: Apa ada perbedaan standar tiap nilai?\n",
        "- Outlier: Apa ada data yang berlebihan?"
      ]
    },
    {
      "cell_type": "markdown",
      "metadata": {},
      "source": [
        "Menggunakan Data dari Hari Sebelumnya\n",
        "Jika pola penggunaan sepeda cenderung berulang setiap hari, kita bisa mengisi data yang hilang dengan nilai dari hari sebelumnya:"
      ]
    },
    {
      "cell_type": "code",
      "execution_count": 393,
      "metadata": {},
      "outputs": [
        {
          "data": {
            "text/html": [
              "<div>\n",
              "<style scoped>\n",
              "    .dataframe tbody tr th:only-of-type {\n",
              "        vertical-align: middle;\n",
              "    }\n",
              "\n",
              "    .dataframe tbody tr th {\n",
              "        vertical-align: top;\n",
              "    }\n",
              "\n",
              "    .dataframe thead th {\n",
              "        text-align: right;\n",
              "    }\n",
              "</style>\n",
              "<table border=\"1\" class=\"dataframe\">\n",
              "  <thead>\n",
              "    <tr style=\"text-align: right;\">\n",
              "      <th></th>\n",
              "      <th>instant_x</th>\n",
              "      <th>dteday</th>\n",
              "      <th>season_x</th>\n",
              "      <th>yr_x</th>\n",
              "      <th>mnth_x</th>\n",
              "      <th>hr</th>\n",
              "      <th>holiday_x</th>\n",
              "      <th>weekday_x</th>\n",
              "      <th>workingday_x</th>\n",
              "      <th>weathersit_x</th>\n",
              "      <th>temp_x</th>\n",
              "      <th>atemp_x</th>\n",
              "      <th>hum_x</th>\n",
              "      <th>windspeed_x</th>\n",
              "      <th>casual</th>\n",
              "      <th>registered</th>\n",
              "      <th>cnt</th>\n",
              "      <th>timestamp</th>\n",
              "      <th>instant_y</th>\n",
              "      <th>season_y</th>\n",
              "      <th>yr_y</th>\n",
              "      <th>mnth_y</th>\n",
              "      <th>holiday_y</th>\n",
              "      <th>weekday_y</th>\n",
              "      <th>workingday_y</th>\n",
              "      <th>weathersit_y</th>\n",
              "      <th>temp_y</th>\n",
              "      <th>atemp_y</th>\n",
              "      <th>hum_y</th>\n",
              "      <th>windspeed_y</th>\n",
              "    </tr>\n",
              "  </thead>\n",
              "  <tbody>\n",
              "    <tr>\n",
              "      <th>0</th>\n",
              "      <td>1</td>\n",
              "      <td>2011-01-01</td>\n",
              "      <td>1</td>\n",
              "      <td>0</td>\n",
              "      <td>1</td>\n",
              "      <td>0</td>\n",
              "      <td>0</td>\n",
              "      <td>6</td>\n",
              "      <td>0</td>\n",
              "      <td>1</td>\n",
              "      <td>0.24</td>\n",
              "      <td>0.2879</td>\n",
              "      <td>0.81</td>\n",
              "      <td>0.0</td>\n",
              "      <td>3</td>\n",
              "      <td>13</td>\n",
              "      <td>16</td>\n",
              "      <td>2011-01-01 00:00:00</td>\n",
              "      <td>1</td>\n",
              "      <td>1</td>\n",
              "      <td>0</td>\n",
              "      <td>1</td>\n",
              "      <td>0</td>\n",
              "      <td>6</td>\n",
              "      <td>0</td>\n",
              "      <td>2</td>\n",
              "      <td>0.344167</td>\n",
              "      <td>0.363625</td>\n",
              "      <td>0.805833</td>\n",
              "      <td>0.160446</td>\n",
              "    </tr>\n",
              "    <tr>\n",
              "      <th>1</th>\n",
              "      <td>2</td>\n",
              "      <td>2011-01-01</td>\n",
              "      <td>1</td>\n",
              "      <td>0</td>\n",
              "      <td>1</td>\n",
              "      <td>1</td>\n",
              "      <td>0</td>\n",
              "      <td>6</td>\n",
              "      <td>0</td>\n",
              "      <td>1</td>\n",
              "      <td>0.22</td>\n",
              "      <td>0.2727</td>\n",
              "      <td>0.80</td>\n",
              "      <td>0.0</td>\n",
              "      <td>8</td>\n",
              "      <td>32</td>\n",
              "      <td>40</td>\n",
              "      <td>2011-01-01 01:00:00</td>\n",
              "      <td>1</td>\n",
              "      <td>1</td>\n",
              "      <td>0</td>\n",
              "      <td>1</td>\n",
              "      <td>0</td>\n",
              "      <td>6</td>\n",
              "      <td>0</td>\n",
              "      <td>2</td>\n",
              "      <td>0.344167</td>\n",
              "      <td>0.363625</td>\n",
              "      <td>0.805833</td>\n",
              "      <td>0.160446</td>\n",
              "    </tr>\n",
              "    <tr>\n",
              "      <th>2</th>\n",
              "      <td>3</td>\n",
              "      <td>2011-01-01</td>\n",
              "      <td>1</td>\n",
              "      <td>0</td>\n",
              "      <td>1</td>\n",
              "      <td>2</td>\n",
              "      <td>0</td>\n",
              "      <td>6</td>\n",
              "      <td>0</td>\n",
              "      <td>1</td>\n",
              "      <td>0.22</td>\n",
              "      <td>0.2727</td>\n",
              "      <td>0.80</td>\n",
              "      <td>0.0</td>\n",
              "      <td>5</td>\n",
              "      <td>27</td>\n",
              "      <td>32</td>\n",
              "      <td>2011-01-01 02:00:00</td>\n",
              "      <td>1</td>\n",
              "      <td>1</td>\n",
              "      <td>0</td>\n",
              "      <td>1</td>\n",
              "      <td>0</td>\n",
              "      <td>6</td>\n",
              "      <td>0</td>\n",
              "      <td>2</td>\n",
              "      <td>0.344167</td>\n",
              "      <td>0.363625</td>\n",
              "      <td>0.805833</td>\n",
              "      <td>0.160446</td>\n",
              "    </tr>\n",
              "    <tr>\n",
              "      <th>3</th>\n",
              "      <td>4</td>\n",
              "      <td>2011-01-01</td>\n",
              "      <td>1</td>\n",
              "      <td>0</td>\n",
              "      <td>1</td>\n",
              "      <td>3</td>\n",
              "      <td>0</td>\n",
              "      <td>6</td>\n",
              "      <td>0</td>\n",
              "      <td>1</td>\n",
              "      <td>0.24</td>\n",
              "      <td>0.2879</td>\n",
              "      <td>0.75</td>\n",
              "      <td>0.0</td>\n",
              "      <td>3</td>\n",
              "      <td>10</td>\n",
              "      <td>13</td>\n",
              "      <td>2011-01-01 03:00:00</td>\n",
              "      <td>1</td>\n",
              "      <td>1</td>\n",
              "      <td>0</td>\n",
              "      <td>1</td>\n",
              "      <td>0</td>\n",
              "      <td>6</td>\n",
              "      <td>0</td>\n",
              "      <td>2</td>\n",
              "      <td>0.344167</td>\n",
              "      <td>0.363625</td>\n",
              "      <td>0.805833</td>\n",
              "      <td>0.160446</td>\n",
              "    </tr>\n",
              "    <tr>\n",
              "      <th>4</th>\n",
              "      <td>5</td>\n",
              "      <td>2011-01-01</td>\n",
              "      <td>1</td>\n",
              "      <td>0</td>\n",
              "      <td>1</td>\n",
              "      <td>4</td>\n",
              "      <td>0</td>\n",
              "      <td>6</td>\n",
              "      <td>0</td>\n",
              "      <td>1</td>\n",
              "      <td>0.24</td>\n",
              "      <td>0.2879</td>\n",
              "      <td>0.75</td>\n",
              "      <td>0.0</td>\n",
              "      <td>0</td>\n",
              "      <td>1</td>\n",
              "      <td>1</td>\n",
              "      <td>2011-01-01 04:00:00</td>\n",
              "      <td>1</td>\n",
              "      <td>1</td>\n",
              "      <td>0</td>\n",
              "      <td>1</td>\n",
              "      <td>0</td>\n",
              "      <td>6</td>\n",
              "      <td>0</td>\n",
              "      <td>2</td>\n",
              "      <td>0.344167</td>\n",
              "      <td>0.363625</td>\n",
              "      <td>0.805833</td>\n",
              "      <td>0.160446</td>\n",
              "    </tr>\n",
              "  </tbody>\n",
              "</table>\n",
              "</div>"
            ],
            "text/plain": [
              "   instant_x     dteday  season_x  yr_x  mnth_x  hr  holiday_x  weekday_x  workingday_x  weathersit_x  temp_x  atemp_x  hum_x  windspeed_x  casual  registered  cnt           timestamp  instant_y  season_y  yr_y  mnth_y  holiday_y  weekday_y  workingday_y  weathersit_y    temp_y   atemp_y     hum_y  windspeed_y\n",
              "0          1 2011-01-01         1     0       1   0          0          6             0             1    0.24   0.2879   0.81          0.0       3          13   16 2011-01-01 00:00:00          1         1     0       1          0          6             0             2  0.344167  0.363625  0.805833     0.160446\n",
              "1          2 2011-01-01         1     0       1   1          0          6             0             1    0.22   0.2727   0.80          0.0       8          32   40 2011-01-01 01:00:00          1         1     0       1          0          6             0             2  0.344167  0.363625  0.805833     0.160446\n",
              "2          3 2011-01-01         1     0       1   2          0          6             0             1    0.22   0.2727   0.80          0.0       5          27   32 2011-01-01 02:00:00          1         1     0       1          0          6             0             2  0.344167  0.363625  0.805833     0.160446\n",
              "3          4 2011-01-01         1     0       1   3          0          6             0             1    0.24   0.2879   0.75          0.0       3          10   13 2011-01-01 03:00:00          1         1     0       1          0          6             0             2  0.344167  0.363625  0.805833     0.160446\n",
              "4          5 2011-01-01         1     0       1   4          0          6             0             1    0.24   0.2879   0.75          0.0       0           1    1 2011-01-01 04:00:00          1         1     0       1          0          6             0             2  0.344167  0.363625  0.805833     0.160446"
            ]
          },
          "execution_count": 393,
          "metadata": {},
          "output_type": "execute_result"
        }
      ],
      "source": [
        "# Gabungkan data berdasarkan 'dteday'\n",
        "merged_df = pd.merge(df_hour, df_day.drop(columns=[\"cnt\", \"casual\", \"registered\"]), on=\"dteday\", how=\"left\")\n",
        "merged_df.head()"
      ]
    },
    {
      "cell_type": "markdown",
      "metadata": {},
      "source": [
        "#### Missing Value (Data Kosong)"
      ]
    },
    {
      "cell_type": "code",
      "execution_count": 394,
      "metadata": {},
      "outputs": [
        {
          "name": "stdout",
          "output_type": "stream",
          "text": [
            "instant       0\n",
            "dteday        0\n",
            "season        0\n",
            "yr            0\n",
            "mnth          0\n",
            "hr            0\n",
            "holiday       0\n",
            "weekday       0\n",
            "workingday    0\n",
            "weathersit    0\n",
            "temp          0\n",
            "atemp         0\n",
            "hum           0\n",
            "windspeed     0\n",
            "casual        0\n",
            "registered    0\n",
            "cnt           0\n",
            "timestamp     0\n",
            "dtype: int64\n",
            "### -------------------------------\n",
            "instant       0\n",
            "dteday        0\n",
            "season        0\n",
            "yr            0\n",
            "mnth          0\n",
            "holiday       0\n",
            "weekday       0\n",
            "workingday    0\n",
            "weathersit    0\n",
            "temp          0\n",
            "atemp         0\n",
            "hum           0\n",
            "windspeed     0\n",
            "casual        0\n",
            "registered    0\n",
            "cnt           0\n",
            "dtype: int64\n"
          ]
        }
      ],
      "source": [
        "print(df_hour.isnull().sum())\n",
        "print(\"### -------------------------------\")\n",
        "print(df_day.isnull().sum())"
      ]
    },
    {
      "cell_type": "markdown",
      "metadata": {},
      "source": [
        "#### Invalid Value (Data Tidak Masuk Akal)"
      ]
    },
    {
      "cell_type": "code",
      "execution_count": 395,
      "metadata": {},
      "outputs": [
        {
          "name": "stdout",
          "output_type": "stream",
          "text": [
            "### DF Hour ---\n",
            "Season:  [1 2 3 4]\n",
            "Weather:  [1 2 3 4]\n",
            "Temperature:  Empty DataFrame\n",
            "Columns: [instant, dteday, season, yr, mnth, hr, holiday, weekday, workingday, weathersit, temp, atemp, hum, windspeed, casual, registered, cnt, timestamp]\n",
            "Index: []\n",
            "Humidity:  Empty DataFrame\n",
            "Columns: [instant, dteday, season, yr, mnth, hr, holiday, weekday, workingday, weathersit, temp, atemp, hum, windspeed, casual, registered, cnt, timestamp]\n",
            "Index: []\n",
            "\n",
            "### DF Day ---\n",
            "Season [1 2 3 4]\n",
            "Weather:  [2 1 3]\n",
            "Temperature:  Empty DataFrame\n",
            "Columns: [instant, dteday, season, yr, mnth, holiday, weekday, workingday, weathersit, temp, atemp, hum, windspeed, casual, registered, cnt]\n",
            "Index: []\n",
            "Humidity:  Empty DataFrame\n",
            "Columns: [instant, dteday, season, yr, mnth, holiday, weekday, workingday, weathersit, temp, atemp, hum, windspeed, casual, registered, cnt]\n",
            "Index: []\n"
          ]
        }
      ],
      "source": [
        "print(\"### DF Hour ---\")\n",
        "print(\"Season: \", df_hour['season'].unique())  # Seharusnya hanya ada 1, 2, 3, 4\n",
        "print(\"Weather: \", df_hour['weathersit'].unique())  # Seharusnya hanya ada 1, 2, 3, 4\n",
        "print(\"Temperature: \", df_hour[df_hour['temp'] < 0])  # Temperatur tidak boleh negatif\n",
        "print(\"Humidity: \", df_hour[df_hour['hum'] > 1])  # Humidity harus antara 0 dan 1\n",
        "print(\"\\n### DF Day ---\")\n",
        "print(\"Season\", df_day['season'].unique())  # Seharusnya hanya ada 1, 2, 3, 4\n",
        "print(\"Weather: \", df_day['weathersit'].unique())  # Seharusnya hanya ada 1, 2, 3, 4\n",
        "print(\"Temperature: \", df_day[df_day['temp'] < 0])  # Temperatur tidak boleh negatif\n",
        "print(\"Humidity: \", df_day[df_day['hum'] > 1])  # Humidity harus antara 0 dan 1"
      ]
    },
    {
      "cell_type": "markdown",
      "metadata": {},
      "source": [
        "#### Duplicate Data (Data Berulang)"
      ]
    },
    {
      "cell_type": "code",
      "execution_count": 396,
      "metadata": {},
      "outputs": [
        {
          "name": "stdout",
          "output_type": "stream",
          "text": [
            "DF Hour:  0\n",
            "DF Day:  0\n"
          ]
        }
      ],
      "source": [
        "print(\"DF Hour: \", df_hour.duplicated().sum())\n",
        "print(\"DF Day: \", df_day.duplicated().sum())"
      ]
    },
    {
      "cell_type": "markdown",
      "metadata": {},
      "source": [
        "#### Inaccurate Value (Data Tidak Sesuai Observasi)"
      ]
    },
    {
      "cell_type": "code",
      "execution_count": 397,
      "metadata": {},
      "outputs": [
        {
          "name": "stdout",
          "output_type": "stream",
          "text": [
            "### DF Hour ---\n",
            "Angin 0 m/s:         instant     dteday  season  yr  mnth  hr  holiday  weekday  workingday  weathersit  temp   atemp   hum  windspeed  casual  registered  cnt           timestamp\n",
            "0            1 2011-01-01       1   0     1   0        0        6           0           1  0.24  0.2879  0.81        0.0       3          13   16 2011-01-01 00:00:00\n",
            "1            2 2011-01-01       1   0     1   1        0        6           0           1  0.22  0.2727  0.80        0.0       8          32   40 2011-01-01 01:00:00\n",
            "2            3 2011-01-01       1   0     1   2        0        6           0           1  0.22  0.2727  0.80        0.0       5          27   32 2011-01-01 02:00:00\n",
            "3            4 2011-01-01       1   0     1   3        0        6           0           1  0.24  0.2879  0.75        0.0       3          10   13 2011-01-01 03:00:00\n",
            "4            5 2011-01-01       1   0     1   4        0        6           0           1  0.24  0.2879  0.75        0.0       0           1    1 2011-01-01 04:00:00\n",
            "...        ...        ...     ...  ..   ...  ..      ...      ...         ...         ...   ...     ...   ...        ...     ...         ...  ...                 ...\n",
            "17319    17320 2012-12-29       1   1    12  12        0        6           0           3  0.20  0.2424  1.00        0.0       5          43   48 2012-12-29 12:00:00\n",
            "17320    17321 2012-12-29       1   1    12  13        0        6           0           3  0.20  0.2424  1.00        0.0      13          71   84 2012-12-29 13:00:00\n",
            "17322    17323 2012-12-29       1   1    12  15        0        6           0           2  0.24  0.2424  0.87        0.0      19         110  129 2012-12-29 15:00:00\n",
            "17330    17331 2012-12-29       1   1    12  23        0        6           0           2  0.26  0.2424  0.60        0.0       0          32   32 2012-12-29 23:00:00\n",
            "17350    17351 2012-12-30       1   1    12  19        0        0           0           1  0.34  0.3636  0.61        0.0      16          86  102 2012-12-30 19:00:00\n",
            "\n",
            "[2180 rows x 18 columns]\n",
            "\n",
            "Cnt lebih kecil dari casual + registered:  Empty DataFrame\n",
            "Columns: [instant, dteday, season, yr, mnth, hr, holiday, weekday, workingday, weathersit, temp, atemp, hum, windspeed, casual, registered, cnt, timestamp]\n",
            "Index: []\n",
            "\n",
            "\n",
            "### DF Day ---\n",
            "Angin 0 m/s:  Empty DataFrame\n",
            "Columns: [instant, dteday, season, yr, mnth, holiday, weekday, workingday, weathersit, temp, atemp, hum, windspeed, casual, registered, cnt]\n",
            "Index: []\n",
            "\n",
            "Cnt lebih kecil dari casual + registered:  Empty DataFrame\n",
            "Columns: [instant, dteday, season, yr, mnth, holiday, weekday, workingday, weathersit, temp, atemp, hum, windspeed, casual, registered, cnt]\n",
            "Index: []\n"
          ]
        }
      ],
      "source": [
        "print(\"### DF Hour ---\")\n",
        "print(\"Angin 0 m/s: \", df_hour[df_hour['windspeed'] == 0])  # Seharusnya jarang terjadi angin 0 m/s sepanjang waktu\n",
        "print(\"\\nCnt lebih kecil dari casual + registered: \", df_hour[df_hour['cnt'] < (df_hour['casual'] + df_hour['registered'])])  # Cek apakah cnt lebih kecil dari casual + registered\n",
        "print(\"\\n\\n### DF Day ---\")\n",
        "print(\"Angin 0 m/s: \", df_day[df_day['windspeed'] == 0])  # Seharusnya jarang terjadi angin 0 m/s sepanjang waktu\n",
        "print(\"\\nCnt lebih kecil dari casual + registered: \", df_day[df_day['cnt'] < (df_day['casual'] + df_day['registered'])])  # Cek apakah cnt lebih kecil dari casual + registered"
      ]
    },
    {
      "cell_type": "code",
      "execution_count": 398,
      "metadata": {},
      "outputs": [
        {
          "data": {
            "text/html": [
              "<div>\n",
              "<style scoped>\n",
              "    .dataframe tbody tr th:only-of-type {\n",
              "        vertical-align: middle;\n",
              "    }\n",
              "\n",
              "    .dataframe tbody tr th {\n",
              "        vertical-align: top;\n",
              "    }\n",
              "\n",
              "    .dataframe thead th {\n",
              "        text-align: right;\n",
              "    }\n",
              "</style>\n",
              "<table border=\"1\" class=\"dataframe\">\n",
              "  <thead>\n",
              "    <tr style=\"text-align: right;\">\n",
              "      <th></th>\n",
              "      <th>instant</th>\n",
              "      <th>dteday</th>\n",
              "      <th>season</th>\n",
              "      <th>yr</th>\n",
              "      <th>mnth</th>\n",
              "      <th>hr</th>\n",
              "      <th>holiday</th>\n",
              "      <th>weekday</th>\n",
              "      <th>workingday</th>\n",
              "      <th>weathersit</th>\n",
              "      <th>temp</th>\n",
              "      <th>atemp</th>\n",
              "      <th>hum</th>\n",
              "      <th>windspeed</th>\n",
              "      <th>casual</th>\n",
              "      <th>registered</th>\n",
              "      <th>cnt</th>\n",
              "      <th>timestamp</th>\n",
              "    </tr>\n",
              "  </thead>\n",
              "  <tbody>\n",
              "    <tr>\n",
              "      <th>count</th>\n",
              "      <td>17379.0000</td>\n",
              "      <td>17379</td>\n",
              "      <td>17379.000000</td>\n",
              "      <td>17379.000000</td>\n",
              "      <td>17379.000000</td>\n",
              "      <td>17379.000000</td>\n",
              "      <td>17379.000000</td>\n",
              "      <td>17379.000000</td>\n",
              "      <td>17379.000000</td>\n",
              "      <td>17379.000000</td>\n",
              "      <td>17379.000000</td>\n",
              "      <td>17379.000000</td>\n",
              "      <td>17379.000000</td>\n",
              "      <td>17379.000000</td>\n",
              "      <td>17379.000000</td>\n",
              "      <td>17379.000000</td>\n",
              "      <td>17379.000000</td>\n",
              "      <td>17379</td>\n",
              "    </tr>\n",
              "    <tr>\n",
              "      <th>mean</th>\n",
              "      <td>8690.0000</td>\n",
              "      <td>2012-01-02 04:08:34.552045568</td>\n",
              "      <td>2.501640</td>\n",
              "      <td>0.502561</td>\n",
              "      <td>6.537775</td>\n",
              "      <td>11.546752</td>\n",
              "      <td>0.028770</td>\n",
              "      <td>3.003683</td>\n",
              "      <td>0.682721</td>\n",
              "      <td>1.425283</td>\n",
              "      <td>0.496987</td>\n",
              "      <td>0.475775</td>\n",
              "      <td>0.627229</td>\n",
              "      <td>0.190098</td>\n",
              "      <td>35.676218</td>\n",
              "      <td>153.786869</td>\n",
              "      <td>189.463088</td>\n",
              "      <td>2012-01-02 15:41:22.858622464</td>\n",
              "    </tr>\n",
              "    <tr>\n",
              "      <th>min</th>\n",
              "      <td>1.0000</td>\n",
              "      <td>2011-01-01 00:00:00</td>\n",
              "      <td>1.000000</td>\n",
              "      <td>0.000000</td>\n",
              "      <td>1.000000</td>\n",
              "      <td>0.000000</td>\n",
              "      <td>0.000000</td>\n",
              "      <td>0.000000</td>\n",
              "      <td>0.000000</td>\n",
              "      <td>1.000000</td>\n",
              "      <td>0.020000</td>\n",
              "      <td>0.000000</td>\n",
              "      <td>0.000000</td>\n",
              "      <td>0.000000</td>\n",
              "      <td>0.000000</td>\n",
              "      <td>0.000000</td>\n",
              "      <td>1.000000</td>\n",
              "      <td>2011-01-01 00:00:00</td>\n",
              "    </tr>\n",
              "    <tr>\n",
              "      <th>25%</th>\n",
              "      <td>4345.5000</td>\n",
              "      <td>2011-07-04 00:00:00</td>\n",
              "      <td>2.000000</td>\n",
              "      <td>0.000000</td>\n",
              "      <td>4.000000</td>\n",
              "      <td>6.000000</td>\n",
              "      <td>0.000000</td>\n",
              "      <td>1.000000</td>\n",
              "      <td>0.000000</td>\n",
              "      <td>1.000000</td>\n",
              "      <td>0.340000</td>\n",
              "      <td>0.333300</td>\n",
              "      <td>0.480000</td>\n",
              "      <td>0.104500</td>\n",
              "      <td>4.000000</td>\n",
              "      <td>34.000000</td>\n",
              "      <td>40.000000</td>\n",
              "      <td>2011-07-04 22:30:00</td>\n",
              "    </tr>\n",
              "    <tr>\n",
              "      <th>50%</th>\n",
              "      <td>8690.0000</td>\n",
              "      <td>2012-01-02 00:00:00</td>\n",
              "      <td>3.000000</td>\n",
              "      <td>1.000000</td>\n",
              "      <td>7.000000</td>\n",
              "      <td>12.000000</td>\n",
              "      <td>0.000000</td>\n",
              "      <td>3.000000</td>\n",
              "      <td>1.000000</td>\n",
              "      <td>1.000000</td>\n",
              "      <td>0.500000</td>\n",
              "      <td>0.484800</td>\n",
              "      <td>0.630000</td>\n",
              "      <td>0.194000</td>\n",
              "      <td>17.000000</td>\n",
              "      <td>115.000000</td>\n",
              "      <td>142.000000</td>\n",
              "      <td>2012-01-02 21:00:00</td>\n",
              "    </tr>\n",
              "    <tr>\n",
              "      <th>75%</th>\n",
              "      <td>13034.5000</td>\n",
              "      <td>2012-07-02 00:00:00</td>\n",
              "      <td>3.000000</td>\n",
              "      <td>1.000000</td>\n",
              "      <td>10.000000</td>\n",
              "      <td>18.000000</td>\n",
              "      <td>0.000000</td>\n",
              "      <td>5.000000</td>\n",
              "      <td>1.000000</td>\n",
              "      <td>2.000000</td>\n",
              "      <td>0.660000</td>\n",
              "      <td>0.621200</td>\n",
              "      <td>0.780000</td>\n",
              "      <td>0.253700</td>\n",
              "      <td>48.000000</td>\n",
              "      <td>220.000000</td>\n",
              "      <td>281.000000</td>\n",
              "      <td>2012-07-02 06:30:00</td>\n",
              "    </tr>\n",
              "    <tr>\n",
              "      <th>max</th>\n",
              "      <td>17379.0000</td>\n",
              "      <td>2012-12-31 00:00:00</td>\n",
              "      <td>4.000000</td>\n",
              "      <td>1.000000</td>\n",
              "      <td>12.000000</td>\n",
              "      <td>23.000000</td>\n",
              "      <td>1.000000</td>\n",
              "      <td>6.000000</td>\n",
              "      <td>1.000000</td>\n",
              "      <td>4.000000</td>\n",
              "      <td>1.000000</td>\n",
              "      <td>1.000000</td>\n",
              "      <td>1.000000</td>\n",
              "      <td>0.850700</td>\n",
              "      <td>367.000000</td>\n",
              "      <td>886.000000</td>\n",
              "      <td>977.000000</td>\n",
              "      <td>2012-12-31 23:00:00</td>\n",
              "    </tr>\n",
              "    <tr>\n",
              "      <th>std</th>\n",
              "      <td>5017.0295</td>\n",
              "      <td>NaN</td>\n",
              "      <td>1.106918</td>\n",
              "      <td>0.500008</td>\n",
              "      <td>3.438776</td>\n",
              "      <td>6.914405</td>\n",
              "      <td>0.167165</td>\n",
              "      <td>2.005771</td>\n",
              "      <td>0.465431</td>\n",
              "      <td>0.639357</td>\n",
              "      <td>0.192556</td>\n",
              "      <td>0.171850</td>\n",
              "      <td>0.192930</td>\n",
              "      <td>0.122340</td>\n",
              "      <td>49.305030</td>\n",
              "      <td>151.357286</td>\n",
              "      <td>181.387599</td>\n",
              "      <td>NaN</td>\n",
              "    </tr>\n",
              "  </tbody>\n",
              "</table>\n",
              "</div>"
            ],
            "text/plain": [
              "          instant                         dteday        season            yr          mnth            hr       holiday       weekday    workingday    weathersit          temp         atemp           hum     windspeed        casual    registered           cnt                      timestamp\n",
              "count  17379.0000                          17379  17379.000000  17379.000000  17379.000000  17379.000000  17379.000000  17379.000000  17379.000000  17379.000000  17379.000000  17379.000000  17379.000000  17379.000000  17379.000000  17379.000000  17379.000000                          17379\n",
              "mean    8690.0000  2012-01-02 04:08:34.552045568      2.501640      0.502561      6.537775     11.546752      0.028770      3.003683      0.682721      1.425283      0.496987      0.475775      0.627229      0.190098     35.676218    153.786869    189.463088  2012-01-02 15:41:22.858622464\n",
              "min        1.0000            2011-01-01 00:00:00      1.000000      0.000000      1.000000      0.000000      0.000000      0.000000      0.000000      1.000000      0.020000      0.000000      0.000000      0.000000      0.000000      0.000000      1.000000            2011-01-01 00:00:00\n",
              "25%     4345.5000            2011-07-04 00:00:00      2.000000      0.000000      4.000000      6.000000      0.000000      1.000000      0.000000      1.000000      0.340000      0.333300      0.480000      0.104500      4.000000     34.000000     40.000000            2011-07-04 22:30:00\n",
              "50%     8690.0000            2012-01-02 00:00:00      3.000000      1.000000      7.000000     12.000000      0.000000      3.000000      1.000000      1.000000      0.500000      0.484800      0.630000      0.194000     17.000000    115.000000    142.000000            2012-01-02 21:00:00\n",
              "75%    13034.5000            2012-07-02 00:00:00      3.000000      1.000000     10.000000     18.000000      0.000000      5.000000      1.000000      2.000000      0.660000      0.621200      0.780000      0.253700     48.000000    220.000000    281.000000            2012-07-02 06:30:00\n",
              "max    17379.0000            2012-12-31 00:00:00      4.000000      1.000000     12.000000     23.000000      1.000000      6.000000      1.000000      4.000000      1.000000      1.000000      1.000000      0.850700    367.000000    886.000000    977.000000            2012-12-31 23:00:00\n",
              "std     5017.0295                            NaN      1.106918      0.500008      3.438776      6.914405      0.167165      2.005771      0.465431      0.639357      0.192556      0.171850      0.192930      0.122340     49.305030    151.357286    181.387599                            NaN"
            ]
          },
          "execution_count": 398,
          "metadata": {},
          "output_type": "execute_result"
        }
      ],
      "source": [
        "# Inconsistent Value (Perbedaan Standar)\n",
        "df_hour.describe()  # Cek distribusi data apakah ada perbedaan skala yang aneh"
      ]
    },
    {
      "cell_type": "code",
      "execution_count": 399,
      "metadata": {},
      "outputs": [
        {
          "data": {
            "text/html": [
              "<div>\n",
              "<style scoped>\n",
              "    .dataframe tbody tr th:only-of-type {\n",
              "        vertical-align: middle;\n",
              "    }\n",
              "\n",
              "    .dataframe tbody tr th {\n",
              "        vertical-align: top;\n",
              "    }\n",
              "\n",
              "    .dataframe thead th {\n",
              "        text-align: right;\n",
              "    }\n",
              "</style>\n",
              "<table border=\"1\" class=\"dataframe\">\n",
              "  <thead>\n",
              "    <tr style=\"text-align: right;\">\n",
              "      <th></th>\n",
              "      <th>instant</th>\n",
              "      <th>dteday</th>\n",
              "      <th>season</th>\n",
              "      <th>yr</th>\n",
              "      <th>mnth</th>\n",
              "      <th>holiday</th>\n",
              "      <th>weekday</th>\n",
              "      <th>workingday</th>\n",
              "      <th>weathersit</th>\n",
              "      <th>temp</th>\n",
              "      <th>atemp</th>\n",
              "      <th>hum</th>\n",
              "      <th>windspeed</th>\n",
              "      <th>casual</th>\n",
              "      <th>registered</th>\n",
              "      <th>cnt</th>\n",
              "    </tr>\n",
              "  </thead>\n",
              "  <tbody>\n",
              "    <tr>\n",
              "      <th>count</th>\n",
              "      <td>731.000000</td>\n",
              "      <td>731</td>\n",
              "      <td>731.000000</td>\n",
              "      <td>731.000000</td>\n",
              "      <td>731.000000</td>\n",
              "      <td>731.000000</td>\n",
              "      <td>731.000000</td>\n",
              "      <td>731.000000</td>\n",
              "      <td>731.000000</td>\n",
              "      <td>731.000000</td>\n",
              "      <td>731.000000</td>\n",
              "      <td>731.000000</td>\n",
              "      <td>731.000000</td>\n",
              "      <td>731.000000</td>\n",
              "      <td>731.000000</td>\n",
              "      <td>731.000000</td>\n",
              "    </tr>\n",
              "    <tr>\n",
              "      <th>mean</th>\n",
              "      <td>366.000000</td>\n",
              "      <td>2012-01-01 00:00:00</td>\n",
              "      <td>2.496580</td>\n",
              "      <td>0.500684</td>\n",
              "      <td>6.519836</td>\n",
              "      <td>0.028728</td>\n",
              "      <td>2.997264</td>\n",
              "      <td>0.683995</td>\n",
              "      <td>1.395349</td>\n",
              "      <td>0.495385</td>\n",
              "      <td>0.474354</td>\n",
              "      <td>0.627894</td>\n",
              "      <td>0.190486</td>\n",
              "      <td>848.176471</td>\n",
              "      <td>3656.172367</td>\n",
              "      <td>4504.348837</td>\n",
              "    </tr>\n",
              "    <tr>\n",
              "      <th>min</th>\n",
              "      <td>1.000000</td>\n",
              "      <td>2011-01-01 00:00:00</td>\n",
              "      <td>1.000000</td>\n",
              "      <td>0.000000</td>\n",
              "      <td>1.000000</td>\n",
              "      <td>0.000000</td>\n",
              "      <td>0.000000</td>\n",
              "      <td>0.000000</td>\n",
              "      <td>1.000000</td>\n",
              "      <td>0.059130</td>\n",
              "      <td>0.079070</td>\n",
              "      <td>0.000000</td>\n",
              "      <td>0.022392</td>\n",
              "      <td>2.000000</td>\n",
              "      <td>20.000000</td>\n",
              "      <td>22.000000</td>\n",
              "    </tr>\n",
              "    <tr>\n",
              "      <th>25%</th>\n",
              "      <td>183.500000</td>\n",
              "      <td>2011-07-02 12:00:00</td>\n",
              "      <td>2.000000</td>\n",
              "      <td>0.000000</td>\n",
              "      <td>4.000000</td>\n",
              "      <td>0.000000</td>\n",
              "      <td>1.000000</td>\n",
              "      <td>0.000000</td>\n",
              "      <td>1.000000</td>\n",
              "      <td>0.337083</td>\n",
              "      <td>0.337842</td>\n",
              "      <td>0.520000</td>\n",
              "      <td>0.134950</td>\n",
              "      <td>315.500000</td>\n",
              "      <td>2497.000000</td>\n",
              "      <td>3152.000000</td>\n",
              "    </tr>\n",
              "    <tr>\n",
              "      <th>50%</th>\n",
              "      <td>366.000000</td>\n",
              "      <td>2012-01-01 00:00:00</td>\n",
              "      <td>3.000000</td>\n",
              "      <td>1.000000</td>\n",
              "      <td>7.000000</td>\n",
              "      <td>0.000000</td>\n",
              "      <td>3.000000</td>\n",
              "      <td>1.000000</td>\n",
              "      <td>1.000000</td>\n",
              "      <td>0.498333</td>\n",
              "      <td>0.486733</td>\n",
              "      <td>0.626667</td>\n",
              "      <td>0.180975</td>\n",
              "      <td>713.000000</td>\n",
              "      <td>3662.000000</td>\n",
              "      <td>4548.000000</td>\n",
              "    </tr>\n",
              "    <tr>\n",
              "      <th>75%</th>\n",
              "      <td>548.500000</td>\n",
              "      <td>2012-07-01 12:00:00</td>\n",
              "      <td>3.000000</td>\n",
              "      <td>1.000000</td>\n",
              "      <td>10.000000</td>\n",
              "      <td>0.000000</td>\n",
              "      <td>5.000000</td>\n",
              "      <td>1.000000</td>\n",
              "      <td>2.000000</td>\n",
              "      <td>0.655417</td>\n",
              "      <td>0.608602</td>\n",
              "      <td>0.730209</td>\n",
              "      <td>0.233214</td>\n",
              "      <td>1096.000000</td>\n",
              "      <td>4776.500000</td>\n",
              "      <td>5956.000000</td>\n",
              "    </tr>\n",
              "    <tr>\n",
              "      <th>max</th>\n",
              "      <td>731.000000</td>\n",
              "      <td>2012-12-31 00:00:00</td>\n",
              "      <td>4.000000</td>\n",
              "      <td>1.000000</td>\n",
              "      <td>12.000000</td>\n",
              "      <td>1.000000</td>\n",
              "      <td>6.000000</td>\n",
              "      <td>1.000000</td>\n",
              "      <td>3.000000</td>\n",
              "      <td>0.861667</td>\n",
              "      <td>0.840896</td>\n",
              "      <td>0.972500</td>\n",
              "      <td>0.507463</td>\n",
              "      <td>3410.000000</td>\n",
              "      <td>6946.000000</td>\n",
              "      <td>8714.000000</td>\n",
              "    </tr>\n",
              "    <tr>\n",
              "      <th>std</th>\n",
              "      <td>211.165812</td>\n",
              "      <td>NaN</td>\n",
              "      <td>1.110807</td>\n",
              "      <td>0.500342</td>\n",
              "      <td>3.451913</td>\n",
              "      <td>0.167155</td>\n",
              "      <td>2.004787</td>\n",
              "      <td>0.465233</td>\n",
              "      <td>0.544894</td>\n",
              "      <td>0.183051</td>\n",
              "      <td>0.162961</td>\n",
              "      <td>0.142429</td>\n",
              "      <td>0.077498</td>\n",
              "      <td>686.622488</td>\n",
              "      <td>1560.256377</td>\n",
              "      <td>1937.211452</td>\n",
              "    </tr>\n",
              "  </tbody>\n",
              "</table>\n",
              "</div>"
            ],
            "text/plain": [
              "          instant               dteday      season          yr        mnth     holiday     weekday  workingday  weathersit        temp       atemp         hum   windspeed       casual   registered          cnt\n",
              "count  731.000000                  731  731.000000  731.000000  731.000000  731.000000  731.000000  731.000000  731.000000  731.000000  731.000000  731.000000  731.000000   731.000000   731.000000   731.000000\n",
              "mean   366.000000  2012-01-01 00:00:00    2.496580    0.500684    6.519836    0.028728    2.997264    0.683995    1.395349    0.495385    0.474354    0.627894    0.190486   848.176471  3656.172367  4504.348837\n",
              "min      1.000000  2011-01-01 00:00:00    1.000000    0.000000    1.000000    0.000000    0.000000    0.000000    1.000000    0.059130    0.079070    0.000000    0.022392     2.000000    20.000000    22.000000\n",
              "25%    183.500000  2011-07-02 12:00:00    2.000000    0.000000    4.000000    0.000000    1.000000    0.000000    1.000000    0.337083    0.337842    0.520000    0.134950   315.500000  2497.000000  3152.000000\n",
              "50%    366.000000  2012-01-01 00:00:00    3.000000    1.000000    7.000000    0.000000    3.000000    1.000000    1.000000    0.498333    0.486733    0.626667    0.180975   713.000000  3662.000000  4548.000000\n",
              "75%    548.500000  2012-07-01 12:00:00    3.000000    1.000000   10.000000    0.000000    5.000000    1.000000    2.000000    0.655417    0.608602    0.730209    0.233214  1096.000000  4776.500000  5956.000000\n",
              "max    731.000000  2012-12-31 00:00:00    4.000000    1.000000   12.000000    1.000000    6.000000    1.000000    3.000000    0.861667    0.840896    0.972500    0.507463  3410.000000  6946.000000  8714.000000\n",
              "std    211.165812                  NaN    1.110807    0.500342    3.451913    0.167155    2.004787    0.465233    0.544894    0.183051    0.162961    0.142429    0.077498   686.622488  1560.256377  1937.211452"
            ]
          },
          "execution_count": 399,
          "metadata": {},
          "output_type": "execute_result"
        }
      ],
      "source": [
        "df_day.describe()  # Cek distribusi data apakah ada perbedaan skala yang aneh"
      ]
    },
    {
      "cell_type": "markdown",
      "metadata": {},
      "source": [
        "#### Outlier (Data Berlebihan)"
      ]
    },
    {
      "cell_type": "code",
      "execution_count": 400,
      "metadata": {},
      "outputs": [
        {
          "data": {
            "image/png": "[encoded data removed]",
            "text/plain": [
              "<Figure size 640x480 with 1 Axes>"
            ]
          },
          "metadata": {},
          "output_type": "display_data"
        }
      ],
      "source": [
        "sns.boxplot(x=df_hour['cnt'])\n",
        "plt.show()"
      ]
    },
    {
      "cell_type": "code",
      "execution_count": 401,
      "metadata": {},
      "outputs": [
        {
          "data": {
            "image/png": "[encoded data removed]",
            "text/plain": [
              "<Figure size 640x480 with 1 Axes>"
            ]
          },
          "metadata": {},
          "output_type": "display_data"
        }
      ],
      "source": [
        "sns.boxplot(x=df_day['cnt'])\n",
        "plt.show()"
      ]
    },
    {
      "cell_type": "code",
      "execution_count": 402,
      "metadata": {},
      "outputs": [
        {
          "name": "stdout",
          "output_type": "stream",
          "text": [
            "       cnt\n",
            "5536   651\n",
            "10358  644\n",
            "10359  712\n",
            "10382  676\n",
            "10383  734\n",
            "panjang data:  505\n"
          ]
        }
      ],
      "source": [
        "# Hitung Q1 (Kuartil 1) dan Q3 (Kuartil 3)\n",
        "Q1 = df_hour['cnt'].quantile(0.25)\n",
        "Q3 = df_hour['cnt'].quantile(0.75)\n",
        "IQR = Q3 - Q1\n",
        "\n",
        "# Tentukan batas bawah dan batas atas\n",
        "lower_bound = Q1 - 1.5 * IQR\n",
        "upper_bound = Q3 + 1.5 * IQR\n",
        "\n",
        "# Filter outlier\n",
        "outliers = df_hour[(df_hour['cnt'] < lower_bound) | (df_hour['cnt'] > upper_bound)]\n",
        "\n",
        "# Tampilkan outlier\n",
        "print(outliers[['cnt']].head())\n",
        "print(\"panjang data: \", len(outliers))"
      ]
    },
    {
      "cell_type": "markdown",
      "metadata": {},
      "source": [
        "**Insight**\n",
        "- ✅ Tidak ada Missing Value\n",
        "- ✅ Tidak ada Invalid Value, `df_day` tidak punya weather = 4 (karena yang diambil nilai rata-rata harian)\n",
        "- ✅ Inacutare Value: Ada 2180 rows dari `df_hour` yang punya windspeed 0 (normal karena angin tidak akan terus bertiup tiap jam) \n",
        "- ✅ 505 Outlier di `df_hour.cnt` karena jumlah pengguna sepeda pasti akan berfluktuasi tiap jam nya (karena ada waktu istirahat dan cuaca). \n",
        "- Untuk pengujian sisanya, sepertinya data sudah dirapikan sejak awal."
      ]
    },
    {
      "cell_type": "markdown",
      "metadata": {
        "id": "EhN5R4hr8DC1"
      },
      "source": [
        "### Cleaning Data"
      ]
    },
    {
      "cell_type": "markdown",
      "metadata": {
        "id": "Q_5ejIqckiSP"
      },
      "source": [
        "Karena tidak ada kerusakan pada dataset hour dan day, jadi tidak ada pembersihan. Untuk filter kolom dilakukan di bagian Visualisasi (agar prosesnya mudah dikelompokkan). Cleaning untuk merging dilakukan di bagian **Merging Data**"
      ]
    },
    {
      "cell_type": "markdown",
      "metadata": {
        "id": "gp-Y6wU38DC1"
      },
      "source": [
        "## Exploratory Data Analysis (EDA)"
      ]
    },
    {
      "cell_type": "markdown",
      "metadata": {},
      "source": [
        "Mengakses Beberapa insigh melalui proses yang menghasilkan Pivot Table. Beberapa manipulasi dilakukan langsung pada bagian Visualisasi."
      ]
    },
    {
      "cell_type": "code",
      "execution_count": 403,
      "metadata": {},
      "outputs": [
        {
          "name": "stdout",
          "output_type": "stream",
          "text": [
            "           casual registered        cnt\n",
            "2011      247,252    995,851  1,243,103\n",
            "2012      372,765  1,676,811  2,049,576\n",
            "% Change   50.76%     68.38%     64.88%\n"
          ]
        }
      ],
      "source": [
        "# Hitung total jumlah pengguna sepeda berdasarkan tahun\n",
        "yearly_summary = df_hour.groupby('yr')[['casual', 'registered', 'cnt']].sum()\n",
        "\n",
        "# Ubah index menjadi label deskriptif\n",
        "yearly_summary.index = ['2011', '2012']\n",
        "\n",
        "# Hitung persentase perubahan dari tahun sebelumnya\n",
        "yearly_summary_pct = yearly_summary.pct_change() * 100\n",
        "\n",
        "# Gabungkan data utama dengan persentase perubahan\n",
        "yearly_summary_combined = yearly_summary.astype(object)  # Konversi ke object agar bisa menampung string\n",
        "yearly_summary_combined.loc['% Change'] = yearly_summary_pct.iloc[1].apply(lambda x: f\"{x:.2f}%\" if pd.notna(x) else '-')\n",
        "\n",
        "# Format angka dengan pemisah ribuan\n",
        "yearly_summary_combined.iloc[:-1] = yearly_summary_combined.iloc[:-1].map(lambda x: f\"{int(x):,}\")\n",
        "\n",
        "# Tampilkan hasil\n",
        "print(yearly_summary_combined)"
      ]
    },
    {
      "cell_type": "markdown",
      "metadata": {},
      "source": [
        "**Insight:** Penggunaan sepeda meningkat drastis di 2012, terutama oleh pengguna registered, yang menunjukkan semakin banyak orang berlangganan dan menggunakan sepeda secara rutin. 🚴‍♂️"
      ]
    },
    {
      "cell_type": "markdown",
      "metadata": {
        "id": "zsyZjqak8DC2"
      },
      "source": [
        "## Visualization & Explanatory Analysis"
      ]
    },
    {
      "cell_type": "markdown",
      "metadata": {
        "id": "HZxOiQ6n8DC2"
      },
      "source": [
        "### Pertanyaan 1:  Bagaimana pengaruh suhu (temp) dan kelembaban (hum) terhadap jumlah pengguna sepeda (cnt)?"
      ]
    },
    {
      "cell_type": "code",
      "execution_count": 404,
      "metadata": {},
      "outputs": [
        {
          "data": {
            "text/html": [
              "<div>\n",
              "<style scoped>\n",
              "    .dataframe tbody tr th:only-of-type {\n",
              "        vertical-align: middle;\n",
              "    }\n",
              "\n",
              "    .dataframe tbody tr th {\n",
              "        vertical-align: top;\n",
              "    }\n",
              "\n",
              "    .dataframe thead th {\n",
              "        text-align: right;\n",
              "    }\n",
              "</style>\n",
              "<table border=\"1\" class=\"dataframe\">\n",
              "  <thead>\n",
              "    <tr style=\"text-align: right;\">\n",
              "      <th></th>\n",
              "      <th>temp</th>\n",
              "      <th>hum</th>\n",
              "      <th>cnt</th>\n",
              "    </tr>\n",
              "  </thead>\n",
              "  <tbody>\n",
              "    <tr>\n",
              "      <th>0</th>\n",
              "      <td>9.84</td>\n",
              "      <td>81.0</td>\n",
              "      <td>16</td>\n",
              "    </tr>\n",
              "    <tr>\n",
              "      <th>1</th>\n",
              "      <td>9.02</td>\n",
              "      <td>80.0</td>\n",
              "      <td>40</td>\n",
              "    </tr>\n",
              "    <tr>\n",
              "      <th>2</th>\n",
              "      <td>9.02</td>\n",
              "      <td>80.0</td>\n",
              "      <td>32</td>\n",
              "    </tr>\n",
              "  </tbody>\n",
              "</table>\n",
              "</div>"
            ],
            "text/plain": [
              "   temp   hum  cnt\n",
              "0  9.84  81.0   16\n",
              "1  9.02  80.0   40\n",
              "2  9.02  80.0   32"
            ]
          },
          "execution_count": 404,
          "metadata": {},
          "output_type": "execute_result"
        }
      ],
      "source": [
        "# Ambil kolom yang diperlukan dan buat salinan\n",
        "df1 = df_filled[['temp', 'hum', 'cnt']].copy()\n",
        "\n",
        "# Konversi ke nilai asli\n",
        "df1['temp'] = df1['temp'] * 41  # Temperatur dalam skala asli (Celcius)\n",
        "df1['hum'] = df1['hum'] * 100   # Kelembaban dalam skala asli (%)\n",
        "\n",
        "# Tampilkan hasil\n",
        "df1.head(3)"
      ]
    },
    {
      "cell_type": "code",
      "execution_count": 405,
      "metadata": {},
      "outputs": [
        {
          "name": "stdout",
          "output_type": "stream",
          "text": [
            "Rentang suhu: 0.8200000000000001 - 41.0\n"
          ]
        }
      ],
      "source": [
        "# tampilkan rentang suhu\n",
        "print(f\"Rentang suhu: {df1['temp'].min()} - {df1['temp'].max()}\")"
      ]
    },
    {
      "cell_type": "code",
      "execution_count": 406,
      "metadata": {
        "id": "1swJUdAD8DC2"
      },
      "outputs": [
        {
          "data": {
            "image/png": "[encoded data removed]",
            "text/plain": [
              "<Figure size 1000x500 with 1 Axes>"
            ]
          },
          "metadata": {},
          "output_type": "display_data"
        }
      ],
      "source": [
        "# Manual Grouping atau Binning untuk suhu terhadap jumlah pengguna sepeda\n",
        "\n",
        "# Definisikan rentang suhu dalam derajat Celsius\n",
        "temp_bins = [0, 8.2, 16.4, 24.6, 32.8, 41]  # Sesuai dengan 0-1 skala yang dikalikan 41\n",
        "temp_labels = ['Sangat Dingin (0-8°C)', 'Dingin (8-16°C)', 'Normal (16-24°C)', 'Hangat (24-32°C)', 'Panas (32-41°C)']\n",
        "df1['temp_group'] = pd.cut(df1['temp'], bins=temp_bins, labels=temp_labels)\n",
        "\n",
        "# Visualisasi rata-rata jumlah pengguna berdasarkan suhu\n",
        "plt.figure(figsize=(10, 5))\n",
        "sns.barplot(x='temp_group', y=df1['cnt'] / 1_000_000, data=df1, estimator=sum, hue='temp_group', palette='coolwarm')\n",
        "plt.title('Jumlah Pengguna Sepeda Berdasarkan Kelompok Suhu')\n",
        "plt.xlabel('Kelompok Suhu')\n",
        "plt.ylabel('Jumlah Pengguna Sepeda (Juta)')\n",
        "plt.show()"
      ]
    },
    {
      "cell_type": "code",
      "execution_count": 407,
      "metadata": {
        "id": "Go0lCsvO8DC2"
      },
      "outputs": [
        {
          "data": {
            "image/png": "[encoded data removed]",
            "text/plain": [
              "<Figure size 1000x500 with 1 Axes>"
            ]
          },
          "metadata": {},
          "output_type": "display_data"
        }
      ],
      "source": [
        "# Manual Grouping atau Binning untuk kelembaban\n",
        "hum_bins = [0, 0.2, 0.4, 0.6, 0.8, 1.0]\n",
        "hum_labels = ['Sangat Kering', 'Kering', 'Normal', 'Lembab', 'Sangat Lembab']\n",
        "df_filled['hum_group'] = pd.cut(df_filled['hum'], bins=hum_bins, labels=hum_labels)\n",
        "\n",
        "# Visualisasi rata-rata jumlah pengguna berdasarkan kelembaban\n",
        "plt.figure(figsize=(10, 5))\n",
        "sns.barplot(x='hum_group', y=df_filled['cnt'] / 1_000_000, data=df_filled, estimator=sum, hue='hum_group', palette='coolwarm')\n",
        "plt.title('Jumlah Pengguna Sepeda Berdasarkan Kelompok Kelembaban')\n",
        "plt.xlabel('Kelompok Kelembaban')\n",
        "plt.ylabel('Jumlah Pengguna Sepeda (Juta)')\n",
        "plt.show()"
      ]
    },
    {
      "cell_type": "code",
      "execution_count": 408,
      "metadata": {},
      "outputs": [
        {
          "data": {
            "image/png": "[encoded data removed]",
            "text/plain": [
              "<Figure size 1000x600 with 2 Axes>"
            ]
          },
          "metadata": {},
          "output_type": "display_data"
        }
      ],
      "source": [
        "# Heatmap Korelasi\n",
        "plt.figure(figsize=(10, 6))\n",
        "sns.heatmap(df1[['temp', 'hum', 'cnt']].corr(), annot=True, cmap='coolwarm', fmt='.2f')\n",
        "plt.title('Korelasi antara Suhu, Kelembaban, dan Jumlah Pengguna Sepeda')\n",
        "plt.show()"
      ]
    },
    {
      "cell_type": "markdown",
      "metadata": {
        "id": "DgHI7CiU8DC2"
      },
      "source": [
        "### Pertanyaan 2: Apa perbedaan jumlah pengguna sepeda antara pengguna casual dan pengguna registered pada hari libur dan hari kerja?"
      ]
    },
    {
      "cell_type": "code",
      "execution_count": 409,
      "metadata": {},
      "outputs": [
        {
          "name": "stdout",
          "output_type": "stream",
          "text": [
            "             casual    registered\n",
            "count  17544.000000  17544.000000\n",
            "mean      37.212437    163.763680\n",
            "std       61.185760    208.215253\n",
            "min        0.000000      0.000000\n",
            "25%        4.000000     34.000000\n",
            "50%       17.000000    117.000000\n",
            "75%       49.000000    223.000000\n",
            "max     1658.000000   5080.000000\n"
          ]
        }
      ],
      "source": [
        "df2 = df_filled[['casual', 'registered', 'workingday']].copy()\n",
        "print(df2[['casual', 'registered']].describe())"
      ]
    },
    {
      "cell_type": "code",
      "execution_count": 410,
      "metadata": {},
      "outputs": [
        {
          "name": "stdout",
          "output_type": "stream",
          "text": [
            "Jumlah Pengguna Sepeda (juta)\n",
            "            casual  registered  Total Pengguna\n",
            "Hari Libur    0.34        0.73            1.07\n",
            "Hari Kerja    0.32        2.14            2.46\n"
          ]
        }
      ],
      "source": [
        "# Tampilkan dalam format tabel\n",
        "\n",
        "# Hitung total pengguna casual dan registered berdasarkan hari kerja vs hari libur\n",
        "grouped_data = df2.groupby('workingday')[['casual', 'registered']].sum()\n",
        "\n",
        "# Ubah index menjadi label\n",
        "grouped_data.index = ['Hari Libur', 'Hari Kerja']\n",
        "\n",
        "# Ubah ke format dalam satuan juta\n",
        "grouped_data = grouped_data / 1e6\n",
        "\n",
        "# Tambahkan total pengguna\n",
        "grouped_data['Total Pengguna'] = grouped_data['casual'] + grouped_data['registered']\n",
        "\n",
        "# Ubah format agar lebih mudah dibaca\n",
        "grouped_data = grouped_data.round(2)  # Bulatkan ke 2 desimal\n",
        "\n",
        "# Tampilkan tabel\n",
        "print(\"Jumlah Pengguna Sepeda (juta)\")\n",
        "print(grouped_data)"
      ]
    },
    {
      "cell_type": "code",
      "execution_count": 411,
      "metadata": {},
      "outputs": [
        {
          "data": {
            "image/png": "[encoded data removed]",
            "text/plain": [
              "<Figure size 800x600 with 1 Axes>"
            ]
          },
          "metadata": {},
          "output_type": "display_data"
        }
      ],
      "source": [
        "# Hitung total pengguna casual dan registered berdasarkan hari kerja vs hari libur\n",
        "grouped_data = df2.groupby('workingday')[['casual', 'registered']].sum()\n",
        "\n",
        "# Ubah index menjadi label\n",
        "grouped_data.index = ['Hari Libur', 'Hari Kerja']\n",
        "\n",
        "# Buat bar chart\n",
        "plt.figure(figsize=(8, 6))\n",
        "x = np.arange(len(grouped_data))\n",
        "width = 0.5  # Lebar batang\n",
        "\n",
        "# Plot Casual\n",
        "bars1 = plt.bar(x, grouped_data['casual'] / 1e6, color='skyblue', label='Casual', width=width)\n",
        "\n",
        "# Plot Registered di atas Casual\n",
        "bars2 = plt.bar(x, grouped_data['registered'] / 1e6, color='salmon', \n",
        "                bottom=grouped_data['casual'] / 1e6, label='Registered', width=width)\n",
        "\n",
        "# Tambahkan label pada setiap bar\n",
        "for bar, casual, registered in zip(bars1, grouped_data['casual'], grouped_data['registered']):\n",
        "    plt.text(bar.get_x() + bar.get_width() / 2, \n",
        "             casual / 1e6 / 2,  # Posisi di tengah bar casual\n",
        "             f'{casual / 1e6:.2f}', \n",
        "             ha='center', va='center', fontsize=10, color='black', fontweight='bold')\n",
        "\n",
        "for bar, casual, registered in zip(bars2, grouped_data['casual'], grouped_data['registered']):\n",
        "    plt.text(bar.get_x() + bar.get_width() / 2, \n",
        "             (casual + registered) / 1e6 - (registered / 1e6 / 2),  # Posisi di tengah bar registered\n",
        "             f'{registered / 1e6:.2f}', \n",
        "             ha='center', va='center', fontsize=10, color='black', fontweight='bold')\n",
        "\n",
        "# Tambahkan label dan judul\n",
        "plt.xticks(x, grouped_data.index)\n",
        "plt.ylabel('Total Jumlah Pengguna (Juta)')\n",
        "plt.title('Perbedaan Pengguna Sepeda: Casual vs Registered\\n(Hari Libur vs Hari Kerja)', fontsize=12)\n",
        "plt.legend()\n",
        "\n",
        "# Format sumbu y agar menampilkan angka dalam juta\n",
        "plt.gca().yaxis.set_major_formatter(ticker.FuncFormatter(lambda x, _: f'{x:.1f}'))\n",
        "\n",
        "# Tampilkan plot\n",
        "plt.show()"
      ]
    },
    {
      "cell_type": "markdown",
      "metadata": {},
      "source": [
        "### (Opsional) Pertanyaan 3: Bagaimana Pola Penggunaan Sepeda dalam Sehari, terutama berdasarkan pengaruh cuaca?"
      ]
    },
    {
      "cell_type": "code",
      "execution_count": 412,
      "metadata": {},
      "outputs": [
        {
          "data": {
            "image/png": "[encoded data removed]",
            "text/plain": [
              "<Figure size 1200x500 with 1 Axes>"
            ]
          },
          "metadata": {},
          "output_type": "display_data"
        }
      ],
      "source": [
        "# Hitung rata-rata jumlah pengguna per jam\n",
        "hourly_trend = df_filled.groupby('hr')['cnt'].mean().reset_index()\n",
        "\n",
        "# Visualisasi tren per jam\n",
        "plt.figure(figsize=(12, 5))\n",
        "sns.lineplot(x='hr', y='cnt', data=hourly_trend, marker='o', color='r')\n",
        "\n",
        "plt.xlabel('Jam dalam Sehari')\n",
        "plt.ylabel('Rata-rata Jumlah Pengguna')\n",
        "plt.title('Tren Penggunaan Sepeda Per Jam')\n",
        "plt.xticks(range(0, 24))\n",
        "plt.grid(True, linestyle='--', alpha=0.6)\n",
        "\n",
        "plt.show()"
      ]
    },
    {
      "cell_type": "code",
      "execution_count": 413,
      "metadata": {},
      "outputs": [
        {
          "data": {
            "image/png": "[encoded data removed]",
            "text/plain": [
              "<Figure size 1200x600 with 1 Axes>"
            ]
          },
          "metadata": {},
          "output_type": "display_data"
        }
      ],
      "source": [
        "# Kelompokkan berdasarkan jam dan kondisi cuaca, lalu hitung rata-rata jumlah pengguna sepeda\n",
        "hourly_weather = df_filled.groupby(['hr', 'weathersit'])['cnt'].mean().reset_index()\n",
        "\n",
        "# Mapping kondisi cuaca ke label deskriptif\n",
        "weather_labels = {\n",
        "    1: \"Cerah / Berawan\",\n",
        "    2: \"Berkabut / Mendung\",\n",
        "    3: \"Hujan Ringan / Salju Ringan\",\n",
        "    4: \"Hujan Lebat / Badai\"\n",
        "}\n",
        "hourly_weather['weathersit'] = hourly_weather['weathersit'].map(weather_labels)\n",
        "\n",
        "# Plot garis untuk menunjukkan pola per jam berdasarkan cuaca\n",
        "plt.figure(figsize=(12, 6))\n",
        "sns.lineplot(x='hr', y='cnt', hue='weathersit', data=hourly_weather, marker='o', palette='coolwarm')\n",
        "\n",
        "# Tambahkan label dan judul\n",
        "plt.xlabel('Jam dalam Sehari')\n",
        "plt.ylabel('Rata-rata Jumlah Pengguna')\n",
        "plt.title('Rata-rata Jumlah Pengguna Sepeda per Jam Berdasarkan Kondisi Cuaca')\n",
        "plt.xticks(range(0, 24))  # Set jam dari 0 sampai 23\n",
        "plt.legend(title='Kondisi Cuaca')\n",
        "plt.grid(True, linestyle='--', alpha=0.6)\n",
        "\n",
        "# Tampilkan plot\n",
        "plt.show()"
      ]
    },
    {
      "cell_type": "markdown",
      "metadata": {
        "id": "_WeHlCeX8DC2"
      },
      "source": [
        "## Conclusion"
      ]
    },
    {
      "cell_type": "markdown",
      "metadata": {
        "id": "ZTcyR48Y8DC2"
      },
      "source": [
        "- Conclution pertanyaan 1\n",
        "    - Pengguna sepeda memilih suhu yang hangat (24-32°C) dan temperatur yang normal (0,4 - 0,6) untuk bersepeda.\n",
        "    - Suhu memiliki hubungan lebih kuat dengan jumlah pengguna dibandingkan kelembaban (0.26%).\n",
        "    - Kelembaban hampir tidak memengaruhi jumlah pengguna sepeda (-0.24%).\n",
        "    - Namum, persentase menunjukkan tingkat pengaruh suhu dan kelembaban sangat kecil terhadap jumlah pengguna sepeda. \n",
        "- Conclution pertanyaan 2\n",
        "    - Sebagian besar pengguna sepeda di Washington D.C. adalah pengguna registered, terutama di hari kerja.\n",
        "    - Pada hari libur, pengguna casual lebih banyak dibandingkan hari kerja secara proporsional, kemungkinan untuk rekreasi.\n",
        "    - Sepeda lebih sering digunakan sebagai moda transportasi utama di hari kerja, bukan sekadar aktivitas santai.\n",
        "    - Jadi, jika ingin mengoptimalkan layanan sepeda, bisa dipertimbangkan:\n",
        "        - Meningkatkan layanan di hari kerja untuk registered users.\n",
        "        - Meningkatkan fasilitas rekreasi di hari libur untuk casual users.\n",
        "- Conclution pertanyaan 3\n",
        "    - Puncak pengguna terjadi saat jam kerja dan pulang kerja, menunjukkan bahwa sepeda adalah alternatif transportasi utama bagi banyak orang.\n",
        "    - Cuaca sangat berpengaruh: Saat cuaca buruk, jumlah pengguna menurun, sehingga penyedia layanan sewa sepeda atau kebijakan transportasi harus mempertimbangkan cuaca dalam strategi operasional mereka.\n",
        "    - Peningkatan infrastruktur seperti jalur sepeda yang lebih aman dan tempat berteduh dapat membantu meningkatkan penggunaan sepeda bahkan saat cuaca kurang mendukung."
      ]
    }
  ],
  "metadata": {
    "colab": {
      "provenance": []
    },
    "kernelspec": {
      "display_name": "Python 3",
      "language": "python",
      "name": "python3"
    },
    "language_info": {
      "codemirror_mode": {
        "name": "ipython",
        "version": 3
      },
      "file_extension": ".py",
      "mimetype": "text/x-python",
      "name": "python",
      "nbconvert_exporter": "python",
      "pygments_lexer": "ipython3",
      "version": "3.12.6"
    },
    "orig_nbformat": 4,
    "vscode": {
      "interpreter": {
        "hash": "972b3bf27e332e87b5379f2791f6ef9dfc79c71018c370b0d7423235e20fe4d7"
      }
    }
  },
  "nbformat": 4,
  "nbformat_minor": 0
}
